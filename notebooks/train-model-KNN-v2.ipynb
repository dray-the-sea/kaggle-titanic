{
 "cells": [
  {
   "cell_type": "markdown",
   "metadata": {},
   "source": [
    "Kaggle Score: 0.76315"
   ]
  },
  {
   "cell_type": "code",
   "execution_count": 1,
   "metadata": {},
   "outputs": [],
   "source": [
    "import numpy as np\n",
    "import pandas as pd \n",
    "import matplotlib.pyplot as plt\n",
    "import seaborn as sns\n",
    "\n",
    "%matplotlib inline\n",
    "\n",
    "# need this to be able to import processor module\n",
    "import os\n",
    "import sys\n",
    "sys.path.insert(0, os.path.abspath('../modules'))\n",
    "import preprocess as pp"
   ]
  },
  {
   "cell_type": "markdown",
   "metadata": {},
   "source": [
    "## Notebook objectives\n",
    "\n",
    "\n",
    "1. try Age, Fare, Ticket, Deck features. \n",
    "2. predict test age based on train data age medians"
   ]
  },
  {
   "cell_type": "code",
   "execution_count": 2,
   "metadata": {},
   "outputs": [
    {
     "data": {
      "text/plain": [
       "Survived      0\n",
       "Pclass        0\n",
       "Sex           0\n",
       "Age         177\n",
       "Ticket        0\n",
       "Fare          0\n",
       "Embarked      0\n",
       "Family        0\n",
       "Title         0\n",
       "Deck          0\n",
       "dtype: int64"
      ]
     },
     "execution_count": 2,
     "metadata": {},
     "output_type": "execute_result"
    }
   ],
   "source": [
    "df_raw = pd.read_csv(\"../data/train.csv\")\n",
    "\n",
    "df = df_raw.copy()\n",
    "df[\"Family\"] = df.SibSp+df.Parch\n",
    "df.Embarked.fillna(\"X\", inplace=True)\n",
    "df[['LastName','TitleFirstName']] = df.Name.str.split(',', expand=True)\n",
    "df['Title'] = df.TitleFirstName.apply(lambda x: x.split('.') [0])\n",
    "        \n",
    "df = pp.infer_cabin_features(df, mark_missing=False)\n",
    "df = df.drop(['Name', 'SibSp', \"Parch\", 'TitleFirstName', 'LastName', 'Cabin', 'PassengerId'], axis=1)\n",
    "\n",
    "df.isna().sum()"
   ]
  },
  {
   "cell_type": "code",
   "execution_count": 3,
   "metadata": {},
   "outputs": [
    {
     "data": {
      "text/html": [
       "<div>\n",
       "<style scoped>\n",
       "    .dataframe tbody tr th:only-of-type {\n",
       "        vertical-align: middle;\n",
       "    }\n",
       "\n",
       "    .dataframe tbody tr th {\n",
       "        vertical-align: top;\n",
       "    }\n",
       "\n",
       "    .dataframe thead th {\n",
       "        text-align: right;\n",
       "    }\n",
       "</style>\n",
       "<table border=\"1\" class=\"dataframe\">\n",
       "  <thead>\n",
       "    <tr style=\"text-align: right;\">\n",
       "      <th></th>\n",
       "      <th>Survived</th>\n",
       "      <th>Pclass</th>\n",
       "      <th>Sex</th>\n",
       "      <th>Age</th>\n",
       "      <th>Ticket</th>\n",
       "      <th>Fare</th>\n",
       "      <th>Embarked</th>\n",
       "      <th>Family</th>\n",
       "      <th>Title</th>\n",
       "      <th>Deck</th>\n",
       "    </tr>\n",
       "  </thead>\n",
       "  <tbody>\n",
       "    <tr>\n",
       "      <th>0</th>\n",
       "      <td>0</td>\n",
       "      <td>3</td>\n",
       "      <td>male</td>\n",
       "      <td>22.0</td>\n",
       "      <td>A/5 21171</td>\n",
       "      <td>7.2500</td>\n",
       "      <td>S</td>\n",
       "      <td>1</td>\n",
       "      <td>Mr</td>\n",
       "      <td>unknown</td>\n",
       "    </tr>\n",
       "    <tr>\n",
       "      <th>1</th>\n",
       "      <td>1</td>\n",
       "      <td>1</td>\n",
       "      <td>female</td>\n",
       "      <td>38.0</td>\n",
       "      <td>PC 17599</td>\n",
       "      <td>71.2833</td>\n",
       "      <td>C</td>\n",
       "      <td>1</td>\n",
       "      <td>Mrs</td>\n",
       "      <td>C</td>\n",
       "    </tr>\n",
       "    <tr>\n",
       "      <th>2</th>\n",
       "      <td>1</td>\n",
       "      <td>3</td>\n",
       "      <td>female</td>\n",
       "      <td>26.0</td>\n",
       "      <td>STON/O2. 3101282</td>\n",
       "      <td>7.9250</td>\n",
       "      <td>S</td>\n",
       "      <td>0</td>\n",
       "      <td>Miss</td>\n",
       "      <td>unknown</td>\n",
       "    </tr>\n",
       "    <tr>\n",
       "      <th>3</th>\n",
       "      <td>1</td>\n",
       "      <td>1</td>\n",
       "      <td>female</td>\n",
       "      <td>35.0</td>\n",
       "      <td>113803</td>\n",
       "      <td>53.1000</td>\n",
       "      <td>S</td>\n",
       "      <td>1</td>\n",
       "      <td>Mrs</td>\n",
       "      <td>C</td>\n",
       "    </tr>\n",
       "    <tr>\n",
       "      <th>4</th>\n",
       "      <td>0</td>\n",
       "      <td>3</td>\n",
       "      <td>male</td>\n",
       "      <td>35.0</td>\n",
       "      <td>373450</td>\n",
       "      <td>8.0500</td>\n",
       "      <td>S</td>\n",
       "      <td>0</td>\n",
       "      <td>Mr</td>\n",
       "      <td>unknown</td>\n",
       "    </tr>\n",
       "  </tbody>\n",
       "</table>\n",
       "</div>"
      ],
      "text/plain": [
       "   Survived  Pclass     Sex   Age            Ticket     Fare Embarked  Family  \\\n",
       "0         0       3    male  22.0         A/5 21171   7.2500        S       1   \n",
       "1         1       1  female  38.0          PC 17599  71.2833        C       1   \n",
       "2         1       3  female  26.0  STON/O2. 3101282   7.9250        S       0   \n",
       "3         1       1  female  35.0            113803  53.1000        S       1   \n",
       "4         0       3    male  35.0            373450   8.0500        S       0   \n",
       "\n",
       "   Title     Deck  \n",
       "0     Mr  unknown  \n",
       "1    Mrs        C  \n",
       "2   Miss  unknown  \n",
       "3    Mrs        C  \n",
       "4     Mr  unknown  "
      ]
     },
     "execution_count": 3,
     "metadata": {},
     "output_type": "execute_result"
    }
   ],
   "source": [
    "df.head()"
   ]
  },
  {
   "cell_type": "code",
   "execution_count": 4,
   "metadata": {},
   "outputs": [
    {
     "data": {
      "text/html": [
       "<div>\n",
       "<style scoped>\n",
       "    .dataframe tbody tr th:only-of-type {\n",
       "        vertical-align: middle;\n",
       "    }\n",
       "\n",
       "    .dataframe tbody tr th {\n",
       "        vertical-align: top;\n",
       "    }\n",
       "\n",
       "    .dataframe thead th {\n",
       "        text-align: right;\n",
       "    }\n",
       "</style>\n",
       "<table border=\"1\" class=\"dataframe\">\n",
       "  <thead>\n",
       "    <tr style=\"text-align: right;\">\n",
       "      <th></th>\n",
       "      <th>Survived</th>\n",
       "      <th>Pclass</th>\n",
       "      <th>Sex</th>\n",
       "      <th>Age</th>\n",
       "      <th>Ticket</th>\n",
       "      <th>Fare</th>\n",
       "      <th>Embarked</th>\n",
       "      <th>Family</th>\n",
       "      <th>Title</th>\n",
       "      <th>Deck</th>\n",
       "    </tr>\n",
       "  </thead>\n",
       "  <tbody>\n",
       "    <tr>\n",
       "      <th>0</th>\n",
       "      <td>0</td>\n",
       "      <td>3</td>\n",
       "      <td>1</td>\n",
       "      <td>22.0</td>\n",
       "      <td>523</td>\n",
       "      <td>7.2500</td>\n",
       "      <td>2</td>\n",
       "      <td>1</td>\n",
       "      <td>11</td>\n",
       "      <td>16</td>\n",
       "    </tr>\n",
       "    <tr>\n",
       "      <th>1</th>\n",
       "      <td>1</td>\n",
       "      <td>1</td>\n",
       "      <td>0</td>\n",
       "      <td>38.0</td>\n",
       "      <td>596</td>\n",
       "      <td>71.2833</td>\n",
       "      <td>0</td>\n",
       "      <td>1</td>\n",
       "      <td>12</td>\n",
       "      <td>5</td>\n",
       "    </tr>\n",
       "    <tr>\n",
       "      <th>2</th>\n",
       "      <td>1</td>\n",
       "      <td>3</td>\n",
       "      <td>0</td>\n",
       "      <td>26.0</td>\n",
       "      <td>669</td>\n",
       "      <td>7.9250</td>\n",
       "      <td>2</td>\n",
       "      <td>0</td>\n",
       "      <td>8</td>\n",
       "      <td>16</td>\n",
       "    </tr>\n",
       "    <tr>\n",
       "      <th>3</th>\n",
       "      <td>1</td>\n",
       "      <td>1</td>\n",
       "      <td>0</td>\n",
       "      <td>35.0</td>\n",
       "      <td>49</td>\n",
       "      <td>53.1000</td>\n",
       "      <td>2</td>\n",
       "      <td>1</td>\n",
       "      <td>12</td>\n",
       "      <td>5</td>\n",
       "    </tr>\n",
       "    <tr>\n",
       "      <th>4</th>\n",
       "      <td>0</td>\n",
       "      <td>3</td>\n",
       "      <td>1</td>\n",
       "      <td>35.0</td>\n",
       "      <td>472</td>\n",
       "      <td>8.0500</td>\n",
       "      <td>2</td>\n",
       "      <td>0</td>\n",
       "      <td>11</td>\n",
       "      <td>16</td>\n",
       "    </tr>\n",
       "  </tbody>\n",
       "</table>\n",
       "</div>"
      ],
      "text/plain": [
       "   Survived  Pclass  Sex   Age  Ticket     Fare  Embarked  Family  Title  Deck\n",
       "0         0       3    1  22.0     523   7.2500         2       1     11    16\n",
       "1         1       1    0  38.0     596  71.2833         0       1     12     5\n",
       "2         1       3    0  26.0     669   7.9250         2       0      8    16\n",
       "3         1       1    0  35.0      49  53.1000         2       1     12     5\n",
       "4         0       3    1  35.0     472   8.0500         2       0     11    16"
      ]
     },
     "execution_count": 4,
     "metadata": {},
     "output_type": "execute_result"
    }
   ],
   "source": [
    "num_df = df.copy()\n",
    "num_df = pp.numerify_categorical_columns_0(num_df, columns=[\"Sex\", \"Embarked\", \"Title\", \"Ticket\", \"Deck\",])\n",
    "num_df.head()"
   ]
  },
  {
   "cell_type": "code",
   "execution_count": 5,
   "metadata": {},
   "outputs": [],
   "source": [
    "sex_arr = num_df.Sex.unique()\n",
    "fam_arr = np.arange(0, 11, 1)\n",
    "median_ages = np.zeros(( len(sex_arr),len(fam_arr) ))\n",
    "\n",
    "\n",
    "for sex in sex_arr:\n",
    "    sex_median = num_df.loc[num_df.Sex == sex].Age.median()\n",
    "    for family in fam_arr:\n",
    "        pred_age = num_df.loc[((num_df.Family == family) & (num_df.Sex == sex))].Age.median()\n",
    "        if pred_age > 0:\n",
    "            median_ages[sex][family] = pred_age\n",
    "            #print(f\"sex {sex}, fam {family} --> age {median_ages[sex][family]}\")\n",
    "        else:\n",
    "            median_ages[sex][family] = sex_median\n",
    "            #print(f\"sex {sex}, fam {family}* --> age {median_ages[sex][family]}\")\n",
    "\n",
    "median_ages\n",
    "\n",
    "def fill_na_with_median(row):\n",
    "    if row.Age > 0:\n",
    "        return row.Age\n",
    "    else:\n",
    "        return median_ages[int(row.Sex)][int(row.Family)]"
   ]
  },
  {
   "cell_type": "code",
   "execution_count": 6,
   "metadata": {},
   "outputs": [],
   "source": [
    "num_df.Age = num_df.apply(lambda row: fill_na_with_median(row), axis=1 )"
   ]
  },
  {
   "cell_type": "code",
   "execution_count": 7,
   "metadata": {},
   "outputs": [
    {
     "data": {
      "text/plain": [
       "Survived    0\n",
       "Pclass      0\n",
       "Sex         0\n",
       "Age         0\n",
       "Ticket      0\n",
       "Fare        0\n",
       "Embarked    0\n",
       "Family      0\n",
       "Title       0\n",
       "Deck        0\n",
       "dtype: int64"
      ]
     },
     "execution_count": 7,
     "metadata": {},
     "output_type": "execute_result"
    }
   ],
   "source": [
    "num_df.isna().sum()"
   ]
  },
  {
   "cell_type": "code",
   "execution_count": 8,
   "metadata": {},
   "outputs": [
    {
     "data": {
      "text/html": [
       "<div>\n",
       "<style scoped>\n",
       "    .dataframe tbody tr th:only-of-type {\n",
       "        vertical-align: middle;\n",
       "    }\n",
       "\n",
       "    .dataframe tbody tr th {\n",
       "        vertical-align: top;\n",
       "    }\n",
       "\n",
       "    .dataframe thead th {\n",
       "        text-align: right;\n",
       "    }\n",
       "</style>\n",
       "<table border=\"1\" class=\"dataframe\">\n",
       "  <thead>\n",
       "    <tr style=\"text-align: right;\">\n",
       "      <th></th>\n",
       "      <th>Survived</th>\n",
       "      <th>Pclass</th>\n",
       "      <th>Sex</th>\n",
       "      <th>Age</th>\n",
       "      <th>Ticket</th>\n",
       "      <th>Fare</th>\n",
       "      <th>Embarked</th>\n",
       "      <th>Family</th>\n",
       "      <th>Title</th>\n",
       "      <th>Deck</th>\n",
       "    </tr>\n",
       "  </thead>\n",
       "  <tbody>\n",
       "    <tr>\n",
       "      <th>0</th>\n",
       "      <td>0</td>\n",
       "      <td>3</td>\n",
       "      <td>1</td>\n",
       "      <td>22.0</td>\n",
       "      <td>523</td>\n",
       "      <td>7.2500</td>\n",
       "      <td>2</td>\n",
       "      <td>1</td>\n",
       "      <td>11</td>\n",
       "      <td>16</td>\n",
       "    </tr>\n",
       "    <tr>\n",
       "      <th>1</th>\n",
       "      <td>1</td>\n",
       "      <td>1</td>\n",
       "      <td>0</td>\n",
       "      <td>38.0</td>\n",
       "      <td>596</td>\n",
       "      <td>71.2833</td>\n",
       "      <td>0</td>\n",
       "      <td>1</td>\n",
       "      <td>12</td>\n",
       "      <td>5</td>\n",
       "    </tr>\n",
       "    <tr>\n",
       "      <th>2</th>\n",
       "      <td>1</td>\n",
       "      <td>3</td>\n",
       "      <td>0</td>\n",
       "      <td>26.0</td>\n",
       "      <td>669</td>\n",
       "      <td>7.9250</td>\n",
       "      <td>2</td>\n",
       "      <td>0</td>\n",
       "      <td>8</td>\n",
       "      <td>16</td>\n",
       "    </tr>\n",
       "    <tr>\n",
       "      <th>3</th>\n",
       "      <td>1</td>\n",
       "      <td>1</td>\n",
       "      <td>0</td>\n",
       "      <td>35.0</td>\n",
       "      <td>49</td>\n",
       "      <td>53.1000</td>\n",
       "      <td>2</td>\n",
       "      <td>1</td>\n",
       "      <td>12</td>\n",
       "      <td>5</td>\n",
       "    </tr>\n",
       "    <tr>\n",
       "      <th>4</th>\n",
       "      <td>0</td>\n",
       "      <td>3</td>\n",
       "      <td>1</td>\n",
       "      <td>35.0</td>\n",
       "      <td>472</td>\n",
       "      <td>8.0500</td>\n",
       "      <td>2</td>\n",
       "      <td>0</td>\n",
       "      <td>11</td>\n",
       "      <td>16</td>\n",
       "    </tr>\n",
       "  </tbody>\n",
       "</table>\n",
       "</div>"
      ],
      "text/plain": [
       "   Survived  Pclass  Sex   Age  Ticket     Fare  Embarked  Family  Title  Deck\n",
       "0         0       3    1  22.0     523   7.2500         2       1     11    16\n",
       "1         1       1    0  38.0     596  71.2833         0       1     12     5\n",
       "2         1       3    0  26.0     669   7.9250         2       0      8    16\n",
       "3         1       1    0  35.0      49  53.1000         2       1     12     5\n",
       "4         0       3    1  35.0     472   8.0500         2       0     11    16"
      ]
     },
     "execution_count": 8,
     "metadata": {},
     "output_type": "execute_result"
    }
   ],
   "source": [
    "num_df.head()"
   ]
  },
  {
   "cell_type": "markdown",
   "metadata": {},
   "source": [
    "# Unstandardized Data KNN"
   ]
  },
  {
   "cell_type": "code",
   "execution_count": 9,
   "metadata": {},
   "outputs": [],
   "source": [
    "\n",
    "from sklearn.model_selection import train_test_split, GridSearchCV\n",
    "from sklearn.metrics import confusion_matrix, classification_report\n",
    "\n",
    "np.random.seed(35)\n",
    "\n",
    "x = num_df.drop(\"Survived\", axis=1)\n",
    "y = num_df.Survived\n",
    "\n",
    "x_train, x_test, y_train, y_test = train_test_split(x, y, test_size=.2)"
   ]
  },
  {
   "cell_type": "code",
   "execution_count": 10,
   "metadata": {},
   "outputs": [
    {
     "data": {
      "text/plain": [
       "GridSearchCV(cv=5, estimator=KNeighborsClassifier(),\n",
       "             param_grid={'leaf_size': array([2, 4]),\n",
       "                         'metric': ['minkowski', 'chebyshev', 'correlation',\n",
       "                                    'dice'],\n",
       "                         'n_neighbors': array([ 8, 10, 12, 14, 16, 18]),\n",
       "                         'p': [1, 2], 'weights': ['uniform', 'distance']})"
      ]
     },
     "execution_count": 10,
     "metadata": {},
     "output_type": "execute_result"
    }
   ],
   "source": [
    "from sklearn.neighbors import KNeighborsClassifier, KNeighborsTransformer\n",
    "\n",
    "grid= {\"n_neighbors\": np.arange(8, 20, 2), \n",
    "        \"leaf_size\": np.arange(2, 6, 2),\n",
    "        \"weights\": [\"uniform\", \"distance\"], \n",
    "        'p': [1,2],\n",
    "        'metric': ['minkowski', 'chebyshev', 'correlation', 'dice']}\n",
    "\n",
    "gs_model = GridSearchCV(KNeighborsClassifier(), \n",
    "                        param_grid=grid,\n",
    "                        cv= 5)\n",
    "\n",
    "gs_model.fit(x_train, y_train)"
   ]
  },
  {
   "cell_type": "code",
   "execution_count": 11,
   "metadata": {},
   "outputs": [
    {
     "data": {
      "text/plain": [
       "{'Plain KNN': {'data_transform': 'none',\n",
       "  'best_score': 0.792169802028957,\n",
       "  'test_score': 0.7653631284916201,\n",
       "  'best_params': {'leaf_size': 2,\n",
       "   'metric': 'dice',\n",
       "   'n_neighbors': 16,\n",
       "   'p': 1,\n",
       "   'weights': 'uniform'}}}"
      ]
     },
     "execution_count": 11,
     "metadata": {},
     "output_type": "execute_result"
    }
   ],
   "source": [
    "models = {\"Plain KNN\": {\n",
    "    \"data_transform\": \"none\",\n",
    "    \"best_score\": gs_model.best_score_,\n",
    "    \"test_score\": gs_model.score(x_test, y_test),\n",
    "    \"best_params\": gs_model.best_params_\n",
    "}}\n",
    "\n",
    "best_score = gs_model.best_score_\n",
    "\n",
    "models"
   ]
  },
  {
   "cell_type": "code",
   "execution_count": 12,
   "metadata": {},
   "outputs": [
    {
     "name": "stdout",
     "output_type": "stream",
     "text": [
      "              precision    recall  f1-score   support\n",
      "\n",
      "           0       0.83      0.76      0.79       106\n",
      "           1       0.69      0.77      0.73        73\n",
      "\n",
      "    accuracy                           0.77       179\n",
      "   macro avg       0.76      0.77      0.76       179\n",
      "weighted avg       0.77      0.77      0.77       179\n",
      "\n"
     ]
    }
   ],
   "source": [
    "y_preds = gs_model.predict(x_test)\n",
    "print(classification_report(y_test, y_preds))"
   ]
  },
  {
   "cell_type": "markdown",
   "metadata": {},
   "source": [
    "# Min-max scaler \n",
    "\n",
    "let's do this one just for comparison b/c it improved the scores last time"
   ]
  },
  {
   "cell_type": "code",
   "execution_count": 13,
   "metadata": {},
   "outputs": [
    {
     "data": {
      "text/html": [
       "<div>\n",
       "<style scoped>\n",
       "    .dataframe tbody tr th:only-of-type {\n",
       "        vertical-align: middle;\n",
       "    }\n",
       "\n",
       "    .dataframe tbody tr th {\n",
       "        vertical-align: top;\n",
       "    }\n",
       "\n",
       "    .dataframe thead th {\n",
       "        text-align: right;\n",
       "    }\n",
       "</style>\n",
       "<table border=\"1\" class=\"dataframe\">\n",
       "  <thead>\n",
       "    <tr style=\"text-align: right;\">\n",
       "      <th></th>\n",
       "      <th>Survived</th>\n",
       "      <th>Pclass</th>\n",
       "      <th>Sex</th>\n",
       "      <th>Age</th>\n",
       "      <th>Ticket</th>\n",
       "      <th>Fare</th>\n",
       "      <th>Embarked</th>\n",
       "      <th>Family</th>\n",
       "      <th>Title</th>\n",
       "      <th>Deck</th>\n",
       "    </tr>\n",
       "  </thead>\n",
       "  <tbody>\n",
       "    <tr>\n",
       "      <th>0</th>\n",
       "      <td>0.0</td>\n",
       "      <td>1.0</td>\n",
       "      <td>1.0</td>\n",
       "      <td>0.271174</td>\n",
       "      <td>0.769118</td>\n",
       "      <td>0.014151</td>\n",
       "      <td>0.666667</td>\n",
       "      <td>0.1</td>\n",
       "      <td>0.6875</td>\n",
       "      <td>1.0000</td>\n",
       "    </tr>\n",
       "    <tr>\n",
       "      <th>1</th>\n",
       "      <td>1.0</td>\n",
       "      <td>0.0</td>\n",
       "      <td>0.0</td>\n",
       "      <td>0.472229</td>\n",
       "      <td>0.876471</td>\n",
       "      <td>0.139136</td>\n",
       "      <td>0.000000</td>\n",
       "      <td>0.1</td>\n",
       "      <td>0.7500</td>\n",
       "      <td>0.3125</td>\n",
       "    </tr>\n",
       "    <tr>\n",
       "      <th>2</th>\n",
       "      <td>1.0</td>\n",
       "      <td>1.0</td>\n",
       "      <td>0.0</td>\n",
       "      <td>0.321438</td>\n",
       "      <td>0.983824</td>\n",
       "      <td>0.015469</td>\n",
       "      <td>0.666667</td>\n",
       "      <td>0.0</td>\n",
       "      <td>0.5000</td>\n",
       "      <td>1.0000</td>\n",
       "    </tr>\n",
       "    <tr>\n",
       "      <th>3</th>\n",
       "      <td>1.0</td>\n",
       "      <td>0.0</td>\n",
       "      <td>0.0</td>\n",
       "      <td>0.434531</td>\n",
       "      <td>0.072059</td>\n",
       "      <td>0.103644</td>\n",
       "      <td>0.666667</td>\n",
       "      <td>0.1</td>\n",
       "      <td>0.7500</td>\n",
       "      <td>0.3125</td>\n",
       "    </tr>\n",
       "    <tr>\n",
       "      <th>4</th>\n",
       "      <td>0.0</td>\n",
       "      <td>1.0</td>\n",
       "      <td>1.0</td>\n",
       "      <td>0.434531</td>\n",
       "      <td>0.694118</td>\n",
       "      <td>0.015713</td>\n",
       "      <td>0.666667</td>\n",
       "      <td>0.0</td>\n",
       "      <td>0.6875</td>\n",
       "      <td>1.0000</td>\n",
       "    </tr>\n",
       "  </tbody>\n",
       "</table>\n",
       "</div>"
      ],
      "text/plain": [
       "   Survived  Pclass  Sex       Age    Ticket      Fare  Embarked  Family  \\\n",
       "0       0.0     1.0  1.0  0.271174  0.769118  0.014151  0.666667     0.1   \n",
       "1       1.0     0.0  0.0  0.472229  0.876471  0.139136  0.000000     0.1   \n",
       "2       1.0     1.0  0.0  0.321438  0.983824  0.015469  0.666667     0.0   \n",
       "3       1.0     0.0  0.0  0.434531  0.072059  0.103644  0.666667     0.1   \n",
       "4       0.0     1.0  1.0  0.434531  0.694118  0.015713  0.666667     0.0   \n",
       "\n",
       "    Title    Deck  \n",
       "0  0.6875  1.0000  \n",
       "1  0.7500  0.3125  \n",
       "2  0.5000  1.0000  \n",
       "3  0.7500  0.3125  \n",
       "4  0.6875  1.0000  "
      ]
     },
     "execution_count": 13,
     "metadata": {},
     "output_type": "execute_result"
    }
   ],
   "source": [
    "# Scale it!!\n",
    "from sklearn.preprocessing import MinMaxScaler\n",
    "scaler = MinMaxScaler()\n",
    "\n",
    "mm_scale_df = num_df.copy()\n",
    "scale_arr = scaler.fit_transform(mm_scale_df)\n",
    "mm_scale_df = pd.DataFrame(scale_arr)\n",
    "mm_scale_df.columns = num_df.columns\n",
    "mm_scale_df.head()\n",
    "\n"
   ]
  },
  {
   "cell_type": "code",
   "execution_count": 23,
   "metadata": {},
   "outputs": [
    {
     "ename": "NameError",
     "evalue": "name 'mm_scale_df' is not defined",
     "output_type": "error",
     "traceback": [
      "\u001b[0;31m---------------------------------------------------------------------------\u001b[0m",
      "\u001b[0;31mNameError\u001b[0m                                 Traceback (most recent call last)",
      "\u001b[1;32m/Users/daorlova/Documents/ml-projects/kaggle-titanic/notebooks/train-model-KNN-v2.ipynb Cell 18\u001b[0m in \u001b[0;36m<cell line: 1>\u001b[0;34m()\u001b[0m\n\u001b[0;32m----> <a href='vscode-notebook-cell:/Users/daorlova/Documents/ml-projects/kaggle-titanic/notebooks/train-model-KNN-v2.ipynb#ch0000019?line=0'>1</a>\u001b[0m mms_df_x \u001b[39m=\u001b[39m mm_scale_df\u001b[39m.\u001b[39mdrop(\u001b[39m\"\u001b[39m\u001b[39mSurvived\u001b[39m\u001b[39m\"\u001b[39m, axis\u001b[39m=\u001b[39m\u001b[39m1\u001b[39m)\n\u001b[1;32m      <a href='vscode-notebook-cell:/Users/daorlova/Documents/ml-projects/kaggle-titanic/notebooks/train-model-KNN-v2.ipynb#ch0000019?line=1'>2</a>\u001b[0m mms_df_y \u001b[39m=\u001b[39m mm_scale_df\u001b[39m.\u001b[39mSurvived\n\u001b[1;32m      <a href='vscode-notebook-cell:/Users/daorlova/Documents/ml-projects/kaggle-titanic/notebooks/train-model-KNN-v2.ipynb#ch0000019?line=3'>4</a>\u001b[0m mms_x_train, mms_x_test, mms_y_train, mms_y_test \u001b[39m=\u001b[39m train_test_split(mms_df_x, mms_df_y, test_size\u001b[39m=\u001b[39m\u001b[39m.2\u001b[39m )\n",
      "\u001b[0;31mNameError\u001b[0m: name 'mm_scale_df' is not defined"
     ]
    }
   ],
   "source": [
    "mms_df_x = mm_scale_df.drop(\"Survived\", axis=1)\n",
    "mms_df_y = mm_scale_df.Survived\n",
    "\n",
    "mms_x_train, mms_x_test, mms_y_train, mms_y_test = train_test_split(mms_df_x, mms_df_y, test_size=.2 )\n",
    "\n",
    "mms_gs_model = GridSearchCV(KNeighborsClassifier(), \n",
    "                        param_grid=grid,\n",
    "                        cv= 5)\n",
    "\n",
    "mms_gs_model.fit(mms_x_train, mms_y_train)"
   ]
  },
  {
   "cell_type": "code",
   "execution_count": 15,
   "metadata": {},
   "outputs": [
    {
     "data": {
      "text/plain": [
       "{'Plain KNN': {'data_transform': 'none',\n",
       "  'best_score': 0.792169802028957,\n",
       "  'test_score': 0.7653631284916201,\n",
       "  'best_params': {'leaf_size': 2,\n",
       "   'metric': 'dice',\n",
       "   'n_neighbors': 16,\n",
       "   'p': 1,\n",
       "   'weights': 'uniform'}},\n",
       " 'MinMax Scaled': {'data_transform': 'MinMax',\n",
       "  'best_score': 0.8145769723234512,\n",
       "  'test_score': 0.8156424581005587,\n",
       "  'best_params': {'leaf_size': 2,\n",
       "   'metric': 'minkowski',\n",
       "   'n_neighbors': 18,\n",
       "   'p': 1,\n",
       "   'weights': 'uniform'}}}"
      ]
     },
     "execution_count": 15,
     "metadata": {},
     "output_type": "execute_result"
    }
   ],
   "source": [
    "mms_test_score = mms_gs_model.score(mms_x_test, mms_y_test)\n",
    "models[\"MinMax Scaled\"] =  {\n",
    "    \"data_transform\": \"MinMax\",\n",
    "    \"best_score\": mms_gs_model.best_score_,\n",
    "    \"test_score\": mms_test_score,\n",
    "    \"best_params\": mms_gs_model.best_params_\n",
    "}\n",
    "\n",
    "if mms_test_score > best_score:\n",
    "    best_score = mms_test_score\n",
    "    \n",
    "models"
   ]
  },
  {
   "cell_type": "code",
   "execution_count": 16,
   "metadata": {},
   "outputs": [
    {
     "name": "stdout",
     "output_type": "stream",
     "text": [
      "              precision    recall  f1-score   support\n",
      "\n",
      "         0.0       0.80      0.84      0.82       110\n",
      "         1.0       0.72      0.67      0.69        69\n",
      "\n",
      "    accuracy                           0.77       179\n",
      "   macro avg       0.76      0.75      0.75       179\n",
      "weighted avg       0.77      0.77      0.77       179\n",
      "\n"
     ]
    }
   ],
   "source": [
    "y_preds = gs_model.predict(mms_x_test)\n",
    "print(classification_report(mms_y_test, y_preds))"
   ]
  },
  {
   "cell_type": "markdown",
   "metadata": {},
   "source": [
    "# Standard Scaler"
   ]
  },
  {
   "cell_type": "code",
   "execution_count": 17,
   "metadata": {},
   "outputs": [
    {
     "data": {
      "text/html": [
       "<div>\n",
       "<style scoped>\n",
       "    .dataframe tbody tr th:only-of-type {\n",
       "        vertical-align: middle;\n",
       "    }\n",
       "\n",
       "    .dataframe tbody tr th {\n",
       "        vertical-align: top;\n",
       "    }\n",
       "\n",
       "    .dataframe thead th {\n",
       "        text-align: right;\n",
       "    }\n",
       "</style>\n",
       "<table border=\"1\" class=\"dataframe\">\n",
       "  <thead>\n",
       "    <tr style=\"text-align: right;\">\n",
       "      <th></th>\n",
       "      <th>Pclass</th>\n",
       "      <th>Sex</th>\n",
       "      <th>Age</th>\n",
       "      <th>Ticket</th>\n",
       "      <th>Fare</th>\n",
       "      <th>Embarked</th>\n",
       "      <th>Family</th>\n",
       "      <th>Title</th>\n",
       "      <th>Deck</th>\n",
       "    </tr>\n",
       "  </thead>\n",
       "  <tbody>\n",
       "    <tr>\n",
       "      <th>0</th>\n",
       "      <td>0.827377</td>\n",
       "      <td>0.737695</td>\n",
       "      <td>-0.580613</td>\n",
       "      <td>0.918966</td>\n",
       "      <td>-0.502445</td>\n",
       "      <td>0.581114</td>\n",
       "      <td>0.059160</td>\n",
       "      <td>0.414641</td>\n",
       "      <td>0.500962</td>\n",
       "    </tr>\n",
       "    <tr>\n",
       "      <th>1</th>\n",
       "      <td>-1.566107</td>\n",
       "      <td>-1.355574</td>\n",
       "      <td>0.646611</td>\n",
       "      <td>1.282625</td>\n",
       "      <td>0.786845</td>\n",
       "      <td>-1.938460</td>\n",
       "      <td>0.059160</td>\n",
       "      <td>0.961158</td>\n",
       "      <td>-1.851663</td>\n",
       "    </tr>\n",
       "    <tr>\n",
       "      <th>2</th>\n",
       "      <td>0.827377</td>\n",
       "      <td>-1.355574</td>\n",
       "      <td>-0.273807</td>\n",
       "      <td>1.646283</td>\n",
       "      <td>-0.488854</td>\n",
       "      <td>0.581114</td>\n",
       "      <td>-0.560975</td>\n",
       "      <td>-1.224909</td>\n",
       "      <td>0.500962</td>\n",
       "    </tr>\n",
       "    <tr>\n",
       "      <th>3</th>\n",
       "      <td>-1.566107</td>\n",
       "      <td>-1.355574</td>\n",
       "      <td>0.416507</td>\n",
       "      <td>-1.442322</td>\n",
       "      <td>0.420730</td>\n",
       "      <td>0.581114</td>\n",
       "      <td>0.059160</td>\n",
       "      <td>0.961158</td>\n",
       "      <td>-1.851663</td>\n",
       "    </tr>\n",
       "    <tr>\n",
       "      <th>4</th>\n",
       "      <td>0.827377</td>\n",
       "      <td>0.737695</td>\n",
       "      <td>0.416507</td>\n",
       "      <td>0.664904</td>\n",
       "      <td>-0.486337</td>\n",
       "      <td>0.581114</td>\n",
       "      <td>-0.560975</td>\n",
       "      <td>0.414641</td>\n",
       "      <td>0.500962</td>\n",
       "    </tr>\n",
       "  </tbody>\n",
       "</table>\n",
       "</div>"
      ],
      "text/plain": [
       "     Pclass       Sex       Age    Ticket      Fare  Embarked    Family  \\\n",
       "0  0.827377  0.737695 -0.580613  0.918966 -0.502445  0.581114  0.059160   \n",
       "1 -1.566107 -1.355574  0.646611  1.282625  0.786845 -1.938460  0.059160   \n",
       "2  0.827377 -1.355574 -0.273807  1.646283 -0.488854  0.581114 -0.560975   \n",
       "3 -1.566107 -1.355574  0.416507 -1.442322  0.420730  0.581114  0.059160   \n",
       "4  0.827377  0.737695  0.416507  0.664904 -0.486337  0.581114 -0.560975   \n",
       "\n",
       "      Title      Deck  \n",
       "0  0.414641  0.500962  \n",
       "1  0.961158 -1.851663  \n",
       "2 -1.224909  0.500962  \n",
       "3  0.961158 -1.851663  \n",
       "4  0.414641  0.500962  "
      ]
     },
     "execution_count": 17,
     "metadata": {},
     "output_type": "execute_result"
    }
   ],
   "source": [
    "# Scale it!!\n",
    "\n",
    "from sklearn.preprocessing import StandardScaler\n",
    "std_scaler = StandardScaler()\n",
    "\n",
    "num_df_x = num_df.drop(\"Survived\", axis=1)\n",
    "ss_df_y = num_df.Survived\n",
    "\n",
    "scale_arr = std_scaler.fit_transform(num_df_x)\n",
    "ss_df_x = pd.DataFrame(scale_arr)\n",
    "ss_df_x.columns = num_df_x.columns\n",
    "ss_df_x.head()\n",
    "\n"
   ]
  },
  {
   "cell_type": "code",
   "execution_count": 18,
   "metadata": {},
   "outputs": [
    {
     "data": {
      "text/plain": [
       "GridSearchCV(cv=5, estimator=KNeighborsClassifier(),\n",
       "             param_grid={'leaf_size': array([2, 4]),\n",
       "                         'metric': ['minkowski', 'chebyshev', 'correlation',\n",
       "                                    'dice'],\n",
       "                         'n_neighbors': array([ 8, 10, 12, 14, 16, 18]),\n",
       "                         'p': [1, 2], 'weights': ['uniform', 'distance']})"
      ]
     },
     "execution_count": 18,
     "metadata": {},
     "output_type": "execute_result"
    }
   ],
   "source": [
    "\n",
    "\n",
    "ss_x_train, ss_x_test, ss_y_train, ss_y_test = train_test_split(ss_df_x, ss_df_y, test_size=.2 )\n",
    "\n",
    "\n",
    "ss_gs_model = GridSearchCV(KNeighborsClassifier(), \n",
    "                        param_grid=grid,\n",
    "                        cv= 5)\n",
    "\n",
    "ss_gs_model.fit(ss_x_train, ss_y_train)"
   ]
  },
  {
   "cell_type": "code",
   "execution_count": 19,
   "metadata": {},
   "outputs": [
    {
     "data": {
      "text/plain": [
       "{'Plain KNN': {'data_transform': 'none',\n",
       "  'best_score': 0.792169802028957,\n",
       "  'test_score': 0.7653631284916201,\n",
       "  'best_params': {'leaf_size': 2,\n",
       "   'metric': 'dice',\n",
       "   'n_neighbors': 16,\n",
       "   'p': 1,\n",
       "   'weights': 'uniform'}},\n",
       " 'MinMax Scaled': {'data_transform': 'MinMax',\n",
       "  'best_score': 0.8145769723234512,\n",
       "  'test_score': 0.8156424581005587,\n",
       "  'best_params': {'leaf_size': 2,\n",
       "   'metric': 'minkowski',\n",
       "   'n_neighbors': 18,\n",
       "   'p': 1,\n",
       "   'weights': 'uniform'}},\n",
       " 'Standard Scaled': {'data_transform': 'Standard',\n",
       "  'best_score': 0.8020092583472864,\n",
       "  'test_score': 0.8547486033519553,\n",
       "  'best_params': {'leaf_size': 2,\n",
       "   'metric': 'minkowski',\n",
       "   'n_neighbors': 10,\n",
       "   'p': 2,\n",
       "   'weights': 'uniform'}}}"
      ]
     },
     "execution_count": 19,
     "metadata": {},
     "output_type": "execute_result"
    }
   ],
   "source": [
    "models[\"Standard Scaled\"] =  {\n",
    "    \"data_transform\": \"Standard\",\n",
    "    \"best_score\": ss_gs_model.best_score_,\n",
    "    \"test_score\": ss_gs_model.score(ss_x_test, ss_y_test),\n",
    "    \"best_params\": ss_gs_model.best_params_\n",
    "}\n",
    "\n",
    "models"
   ]
  },
  {
   "cell_type": "code",
   "execution_count": 20,
   "metadata": {},
   "outputs": [
    {
     "name": "stdout",
     "output_type": "stream",
     "text": [
      "              precision    recall  f1-score   support\n",
      "\n",
      "           0       0.66      1.00      0.80       119\n",
      "           1       0.00      0.00      0.00        60\n",
      "\n",
      "    accuracy                           0.66       179\n",
      "   macro avg       0.33      0.50      0.40       179\n",
      "weighted avg       0.44      0.66      0.53       179\n",
      "\n"
     ]
    },
    {
     "name": "stderr",
     "output_type": "stream",
     "text": [
      "/Users/daorlova/Desktop/ml-projects/heart-disease-project/env/lib/python3.9/site-packages/sklearn/metrics/_classification.py:1318: UndefinedMetricWarning: Precision and F-score are ill-defined and being set to 0.0 in labels with no predicted samples. Use `zero_division` parameter to control this behavior.\n",
      "  _warn_prf(average, modifier, msg_start, len(result))\n",
      "/Users/daorlova/Desktop/ml-projects/heart-disease-project/env/lib/python3.9/site-packages/sklearn/metrics/_classification.py:1318: UndefinedMetricWarning: Precision and F-score are ill-defined and being set to 0.0 in labels with no predicted samples. Use `zero_division` parameter to control this behavior.\n",
      "  _warn_prf(average, modifier, msg_start, len(result))\n",
      "/Users/daorlova/Desktop/ml-projects/heart-disease-project/env/lib/python3.9/site-packages/sklearn/metrics/_classification.py:1318: UndefinedMetricWarning: Precision and F-score are ill-defined and being set to 0.0 in labels with no predicted samples. Use `zero_division` parameter to control this behavior.\n",
      "  _warn_prf(average, modifier, msg_start, len(result))\n"
     ]
    }
   ],
   "source": [
    "y_preds = ss_gs_model.predict(ss_x_test)\n",
    "print(classification_report(ss_y_test, y_preds))"
   ]
  },
  {
   "cell_type": "markdown",
   "metadata": {},
   "source": [
    "# Kaggle Test data...\n",
    "\n",
    "we'll do standard scaled knn"
   ]
  },
  {
   "cell_type": "code",
   "execution_count": 21,
   "metadata": {},
   "outputs": [
    {
     "data": {
      "text/html": [
       "<div>\n",
       "<style scoped>\n",
       "    .dataframe tbody tr th:only-of-type {\n",
       "        vertical-align: middle;\n",
       "    }\n",
       "\n",
       "    .dataframe tbody tr th {\n",
       "        vertical-align: top;\n",
       "    }\n",
       "\n",
       "    .dataframe thead th {\n",
       "        text-align: right;\n",
       "    }\n",
       "</style>\n",
       "<table border=\"1\" class=\"dataframe\">\n",
       "  <thead>\n",
       "    <tr style=\"text-align: right;\">\n",
       "      <th></th>\n",
       "      <th>Pclass</th>\n",
       "      <th>Sex</th>\n",
       "      <th>Age</th>\n",
       "      <th>Ticket</th>\n",
       "      <th>Fare</th>\n",
       "      <th>Embarked</th>\n",
       "      <th>Family</th>\n",
       "      <th>Title</th>\n",
       "      <th>Deck</th>\n",
       "    </tr>\n",
       "  </thead>\n",
       "  <tbody>\n",
       "    <tr>\n",
       "      <th>0</th>\n",
       "      <td>3</td>\n",
       "      <td>male</td>\n",
       "      <td>34.5</td>\n",
       "      <td>330911</td>\n",
       "      <td>7.8292</td>\n",
       "      <td>Q</td>\n",
       "      <td>0</td>\n",
       "      <td>Mr</td>\n",
       "      <td>unknown</td>\n",
       "    </tr>\n",
       "    <tr>\n",
       "      <th>1</th>\n",
       "      <td>3</td>\n",
       "      <td>female</td>\n",
       "      <td>47.0</td>\n",
       "      <td>363272</td>\n",
       "      <td>7.0000</td>\n",
       "      <td>S</td>\n",
       "      <td>1</td>\n",
       "      <td>Mrs</td>\n",
       "      <td>unknown</td>\n",
       "    </tr>\n",
       "    <tr>\n",
       "      <th>2</th>\n",
       "      <td>2</td>\n",
       "      <td>male</td>\n",
       "      <td>62.0</td>\n",
       "      <td>240276</td>\n",
       "      <td>9.6875</td>\n",
       "      <td>Q</td>\n",
       "      <td>0</td>\n",
       "      <td>Mr</td>\n",
       "      <td>unknown</td>\n",
       "    </tr>\n",
       "    <tr>\n",
       "      <th>3</th>\n",
       "      <td>3</td>\n",
       "      <td>male</td>\n",
       "      <td>27.0</td>\n",
       "      <td>315154</td>\n",
       "      <td>8.6625</td>\n",
       "      <td>S</td>\n",
       "      <td>0</td>\n",
       "      <td>Mr</td>\n",
       "      <td>unknown</td>\n",
       "    </tr>\n",
       "    <tr>\n",
       "      <th>4</th>\n",
       "      <td>3</td>\n",
       "      <td>female</td>\n",
       "      <td>22.0</td>\n",
       "      <td>3101298</td>\n",
       "      <td>12.2875</td>\n",
       "      <td>S</td>\n",
       "      <td>2</td>\n",
       "      <td>Mrs</td>\n",
       "      <td>unknown</td>\n",
       "    </tr>\n",
       "  </tbody>\n",
       "</table>\n",
       "</div>"
      ],
      "text/plain": [
       "   Pclass     Sex   Age   Ticket     Fare Embarked  Family Title     Deck\n",
       "0       3    male  34.5   330911   7.8292        Q       0    Mr  unknown\n",
       "1       3  female  47.0   363272   7.0000        S       1   Mrs  unknown\n",
       "2       2    male  62.0   240276   9.6875        Q       0    Mr  unknown\n",
       "3       3    male  27.0   315154   8.6625        S       0    Mr  unknown\n",
       "4       3  female  22.0  3101298  12.2875        S       2   Mrs  unknown"
      ]
     },
     "execution_count": 21,
     "metadata": {},
     "output_type": "execute_result"
    }
   ],
   "source": [
    "raw_test_df = pd.read_csv(\"../data/test.csv\")\n",
    "test_PassengerIDs = raw_test_df.PassengerId\n",
    "\n",
    "\n",
    "test_df = raw_test_df.copy()\n",
    "test_df[\"Family\"] = test_df.SibSp+test_df.Parch\n",
    "test_df.Embarked.fillna(\"X\", inplace=True)\n",
    "test_df[['LastName','TitleFirstName']] = test_df.Name.str.split(',', expand=True)\n",
    "test_df['Title'] = test_df.TitleFirstName.apply(lambda x: x.split('.') [0])\n",
    "        \n",
    "test_df = pp.infer_cabin_features(test_df, mark_missing=False)\n",
    "test_df = test_df.drop(['Name', 'SibSp', \"Parch\", 'TitleFirstName', 'LastName', 'Cabin', 'PassengerId'], axis=1)\n",
    "test_df.head()\n",
    "\n"
   ]
  },
  {
   "cell_type": "code",
   "execution_count": 22,
   "metadata": {},
   "outputs": [
    {
     "ename": "ValueError",
     "evalue": "invalid literal for int() with base 10: 'male'",
     "output_type": "error",
     "traceback": [
      "\u001b[0;31m---------------------------------------------------------------------------\u001b[0m",
      "\u001b[0;31mValueError\u001b[0m                                Traceback (most recent call last)",
      "\u001b[1;32m/Users/daorlova/Documents/ml-projects/kaggle-titanic/notebooks/train-model-KNN-v2.ipynb Cell 27\u001b[0m in \u001b[0;36m<cell line: 1>\u001b[0;34m()\u001b[0m\n\u001b[0;32m----> <a href='vscode-notebook-cell:/Users/daorlova/Documents/ml-projects/kaggle-titanic/notebooks/train-model-KNN-v2.ipynb#ch0000032?line=0'>1</a>\u001b[0m test_df\u001b[39m.\u001b[39mAge \u001b[39m=\u001b[39m test_df\u001b[39m.\u001b[39;49mapply(\u001b[39mlambda\u001b[39;49;00m row: fill_na_with_median(row), axis\u001b[39m=\u001b[39;49m\u001b[39m1\u001b[39;49m )\n\u001b[1;32m      <a href='vscode-notebook-cell:/Users/daorlova/Documents/ml-projects/kaggle-titanic/notebooks/train-model-KNN-v2.ipynb#ch0000032?line=1'>2</a>\u001b[0m test_df\u001b[39m.\u001b[39mFare\u001b[39m.\u001b[39mfillna(num_df\u001b[39m.\u001b[39mFare\u001b[39m.\u001b[39mmedian(), inplace\u001b[39m=\u001b[39m\u001b[39mTrue\u001b[39;00m)\n\u001b[1;32m      <a href='vscode-notebook-cell:/Users/daorlova/Documents/ml-projects/kaggle-titanic/notebooks/train-model-KNN-v2.ipynb#ch0000032?line=2'>3</a>\u001b[0m test_df \u001b[39m=\u001b[39m pp\u001b[39m.\u001b[39mnumerify_categorical_columns_0(test_df, columns\u001b[39m=\u001b[39m[\u001b[39m\"\u001b[39m\u001b[39mSex\u001b[39m\u001b[39m\"\u001b[39m, \u001b[39m\"\u001b[39m\u001b[39mEmbarked\u001b[39m\u001b[39m\"\u001b[39m, \u001b[39m\"\u001b[39m\u001b[39mTitle\u001b[39m\u001b[39m\"\u001b[39m, \u001b[39m\"\u001b[39m\u001b[39mTicket\u001b[39m\u001b[39m\"\u001b[39m, \u001b[39m\"\u001b[39m\u001b[39mDeck\u001b[39m\u001b[39m\"\u001b[39m,])\n",
      "File \u001b[0;32m~/Desktop/ml-projects/heart-disease-project/env/lib/python3.9/site-packages/pandas/core/frame.py:8839\u001b[0m, in \u001b[0;36mDataFrame.apply\u001b[0;34m(self, func, axis, raw, result_type, args, **kwargs)\u001b[0m\n\u001b[1;32m   8828\u001b[0m \u001b[39mfrom\u001b[39;00m \u001b[39mpandas\u001b[39;00m\u001b[39m.\u001b[39;00m\u001b[39mcore\u001b[39;00m\u001b[39m.\u001b[39;00m\u001b[39mapply\u001b[39;00m \u001b[39mimport\u001b[39;00m frame_apply\n\u001b[1;32m   8830\u001b[0m op \u001b[39m=\u001b[39m frame_apply(\n\u001b[1;32m   8831\u001b[0m     \u001b[39mself\u001b[39m,\n\u001b[1;32m   8832\u001b[0m     func\u001b[39m=\u001b[39mfunc,\n\u001b[0;32m   (...)\u001b[0m\n\u001b[1;32m   8837\u001b[0m     kwargs\u001b[39m=\u001b[39mkwargs,\n\u001b[1;32m   8838\u001b[0m )\n\u001b[0;32m-> 8839\u001b[0m \u001b[39mreturn\u001b[39;00m op\u001b[39m.\u001b[39;49mapply()\u001b[39m.\u001b[39m__finalize__(\u001b[39mself\u001b[39m, method\u001b[39m=\u001b[39m\u001b[39m\"\u001b[39m\u001b[39mapply\u001b[39m\u001b[39m\"\u001b[39m)\n",
      "File \u001b[0;32m~/Desktop/ml-projects/heart-disease-project/env/lib/python3.9/site-packages/pandas/core/apply.py:727\u001b[0m, in \u001b[0;36mFrameApply.apply\u001b[0;34m(self)\u001b[0m\n\u001b[1;32m    724\u001b[0m \u001b[39melif\u001b[39;00m \u001b[39mself\u001b[39m\u001b[39m.\u001b[39mraw:\n\u001b[1;32m    725\u001b[0m     \u001b[39mreturn\u001b[39;00m \u001b[39mself\u001b[39m\u001b[39m.\u001b[39mapply_raw()\n\u001b[0;32m--> 727\u001b[0m \u001b[39mreturn\u001b[39;00m \u001b[39mself\u001b[39;49m\u001b[39m.\u001b[39;49mapply_standard()\n",
      "File \u001b[0;32m~/Desktop/ml-projects/heart-disease-project/env/lib/python3.9/site-packages/pandas/core/apply.py:851\u001b[0m, in \u001b[0;36mFrameApply.apply_standard\u001b[0;34m(self)\u001b[0m\n\u001b[1;32m    850\u001b[0m \u001b[39mdef\u001b[39;00m \u001b[39mapply_standard\u001b[39m(\u001b[39mself\u001b[39m):\n\u001b[0;32m--> 851\u001b[0m     results, res_index \u001b[39m=\u001b[39m \u001b[39mself\u001b[39;49m\u001b[39m.\u001b[39;49mapply_series_generator()\n\u001b[1;32m    853\u001b[0m     \u001b[39m# wrap results\u001b[39;00m\n\u001b[1;32m    854\u001b[0m     \u001b[39mreturn\u001b[39;00m \u001b[39mself\u001b[39m\u001b[39m.\u001b[39mwrap_results(results, res_index)\n",
      "File \u001b[0;32m~/Desktop/ml-projects/heart-disease-project/env/lib/python3.9/site-packages/pandas/core/apply.py:867\u001b[0m, in \u001b[0;36mFrameApply.apply_series_generator\u001b[0;34m(self)\u001b[0m\n\u001b[1;32m    864\u001b[0m \u001b[39mwith\u001b[39;00m option_context(\u001b[39m\"\u001b[39m\u001b[39mmode.chained_assignment\u001b[39m\u001b[39m\"\u001b[39m, \u001b[39mNone\u001b[39;00m):\n\u001b[1;32m    865\u001b[0m     \u001b[39mfor\u001b[39;00m i, v \u001b[39min\u001b[39;00m \u001b[39menumerate\u001b[39m(series_gen):\n\u001b[1;32m    866\u001b[0m         \u001b[39m# ignore SettingWithCopy here in case the user mutates\u001b[39;00m\n\u001b[0;32m--> 867\u001b[0m         results[i] \u001b[39m=\u001b[39m \u001b[39mself\u001b[39;49m\u001b[39m.\u001b[39;49mf(v)\n\u001b[1;32m    868\u001b[0m         \u001b[39mif\u001b[39;00m \u001b[39misinstance\u001b[39m(results[i], ABCSeries):\n\u001b[1;32m    869\u001b[0m             \u001b[39m# If we have a view on v, we need to make a copy because\u001b[39;00m\n\u001b[1;32m    870\u001b[0m             \u001b[39m#  series_generator will swap out the underlying data\u001b[39;00m\n\u001b[1;32m    871\u001b[0m             results[i] \u001b[39m=\u001b[39m results[i]\u001b[39m.\u001b[39mcopy(deep\u001b[39m=\u001b[39m\u001b[39mFalse\u001b[39;00m)\n",
      "\u001b[1;32m/Users/daorlova/Documents/ml-projects/kaggle-titanic/notebooks/train-model-KNN-v2.ipynb Cell 27\u001b[0m in \u001b[0;36m<lambda>\u001b[0;34m(row)\u001b[0m\n\u001b[0;32m----> <a href='vscode-notebook-cell:/Users/daorlova/Documents/ml-projects/kaggle-titanic/notebooks/train-model-KNN-v2.ipynb#ch0000032?line=0'>1</a>\u001b[0m test_df\u001b[39m.\u001b[39mAge \u001b[39m=\u001b[39m test_df\u001b[39m.\u001b[39mapply(\u001b[39mlambda\u001b[39;00m row: fill_na_with_median(row), axis\u001b[39m=\u001b[39m\u001b[39m1\u001b[39m )\n\u001b[1;32m      <a href='vscode-notebook-cell:/Users/daorlova/Documents/ml-projects/kaggle-titanic/notebooks/train-model-KNN-v2.ipynb#ch0000032?line=1'>2</a>\u001b[0m test_df\u001b[39m.\u001b[39mFare\u001b[39m.\u001b[39mfillna(num_df\u001b[39m.\u001b[39mFare\u001b[39m.\u001b[39mmedian(), inplace\u001b[39m=\u001b[39m\u001b[39mTrue\u001b[39;00m)\n\u001b[1;32m      <a href='vscode-notebook-cell:/Users/daorlova/Documents/ml-projects/kaggle-titanic/notebooks/train-model-KNN-v2.ipynb#ch0000032?line=2'>3</a>\u001b[0m test_df \u001b[39m=\u001b[39m pp\u001b[39m.\u001b[39mnumerify_categorical_columns_0(test_df, columns\u001b[39m=\u001b[39m[\u001b[39m\"\u001b[39m\u001b[39mSex\u001b[39m\u001b[39m\"\u001b[39m, \u001b[39m\"\u001b[39m\u001b[39mEmbarked\u001b[39m\u001b[39m\"\u001b[39m, \u001b[39m\"\u001b[39m\u001b[39mTitle\u001b[39m\u001b[39m\"\u001b[39m, \u001b[39m\"\u001b[39m\u001b[39mTicket\u001b[39m\u001b[39m\"\u001b[39m, \u001b[39m\"\u001b[39m\u001b[39mDeck\u001b[39m\u001b[39m\"\u001b[39m,])\n",
      "\u001b[1;32m/Users/daorlova/Documents/ml-projects/kaggle-titanic/notebooks/train-model-KNN-v2.ipynb Cell 27\u001b[0m in \u001b[0;36mfill_na_with_median\u001b[0;34m(row)\u001b[0m\n\u001b[1;32m     <a href='vscode-notebook-cell:/Users/daorlova/Documents/ml-projects/kaggle-titanic/notebooks/train-model-KNN-v2.ipynb#ch0000032?line=20'>21</a>\u001b[0m     \u001b[39mreturn\u001b[39;00m row\u001b[39m.\u001b[39mAge\n\u001b[1;32m     <a href='vscode-notebook-cell:/Users/daorlova/Documents/ml-projects/kaggle-titanic/notebooks/train-model-KNN-v2.ipynb#ch0000032?line=21'>22</a>\u001b[0m \u001b[39melse\u001b[39;00m:\n\u001b[0;32m---> <a href='vscode-notebook-cell:/Users/daorlova/Documents/ml-projects/kaggle-titanic/notebooks/train-model-KNN-v2.ipynb#ch0000032?line=22'>23</a>\u001b[0m     \u001b[39mreturn\u001b[39;00m median_ages[\u001b[39mint\u001b[39;49m(row\u001b[39m.\u001b[39;49mSex)][\u001b[39mint\u001b[39m(row\u001b[39m.\u001b[39mFamily)]\n",
      "\u001b[0;31mValueError\u001b[0m: invalid literal for int() with base 10: 'male'"
     ]
    }
   ],
   "source": [
    "test_df.Age = test_df.apply(lambda row: fill_na_with_median(row), axis=1 )\n",
    "test_df.Fare.fillna(num_df.Fare.median(), inplace=True)\n",
    "test_df = pp.numerify_categorical_columns_0(test_df, columns=[\"Sex\", \"Embarked\", \"Title\", \"Ticket\", \"Deck\",])\n",
    "test_df.head()"
   ]
  },
  {
   "cell_type": "code",
   "execution_count": null,
   "metadata": {},
   "outputs": [
    {
     "data": {
      "text/plain": [
       "Pclass      0\n",
       "Sex         0\n",
       "Age         0\n",
       "Ticket      0\n",
       "Fare        0\n",
       "Embarked    0\n",
       "Family      0\n",
       "Title       0\n",
       "Deck        0\n",
       "dtype: int64"
      ]
     },
     "execution_count": 143,
     "metadata": {},
     "output_type": "execute_result"
    }
   ],
   "source": [
    "test_df.isna().sum()"
   ]
  },
  {
   "cell_type": "code",
   "execution_count": 24,
   "metadata": {},
   "outputs": [
    {
     "ename": "ValueError",
     "evalue": "could not convert string to float: 'male'",
     "output_type": "error",
     "traceback": [
      "\u001b[0;31m---------------------------------------------------------------------------\u001b[0m",
      "\u001b[0;31mValueError\u001b[0m                                Traceback (most recent call last)",
      "\u001b[1;32m/Users/daorlova/Documents/ml-projects/kaggle-titanic/notebooks/train-model-KNN-v2.ipynb Cell 30\u001b[0m in \u001b[0;36m<cell line: 4>\u001b[0;34m()\u001b[0m\n\u001b[1;32m      <a href='vscode-notebook-cell:/Users/daorlova/Documents/ml-projects/kaggle-titanic/notebooks/train-model-KNN-v2.ipynb#ch0000039?line=0'>1</a>\u001b[0m std_scaler \u001b[39m=\u001b[39m StandardScaler()\n\u001b[1;32m      <a href='vscode-notebook-cell:/Users/daorlova/Documents/ml-projects/kaggle-titanic/notebooks/train-model-KNN-v2.ipynb#ch0000039?line=2'>3</a>\u001b[0m test_scale_df \u001b[39m=\u001b[39m test_df\u001b[39m.\u001b[39mcopy()\n\u001b[0;32m----> <a href='vscode-notebook-cell:/Users/daorlova/Documents/ml-projects/kaggle-titanic/notebooks/train-model-KNN-v2.ipynb#ch0000039?line=3'>4</a>\u001b[0m test_scale_arr \u001b[39m=\u001b[39m std_scaler\u001b[39m.\u001b[39;49mfit_transform(test_scale_df)\n\u001b[1;32m      <a href='vscode-notebook-cell:/Users/daorlova/Documents/ml-projects/kaggle-titanic/notebooks/train-model-KNN-v2.ipynb#ch0000039?line=4'>5</a>\u001b[0m test_scale_df \u001b[39m=\u001b[39m pd\u001b[39m.\u001b[39mDataFrame(test_scale_arr)\n\u001b[1;32m      <a href='vscode-notebook-cell:/Users/daorlova/Documents/ml-projects/kaggle-titanic/notebooks/train-model-KNN-v2.ipynb#ch0000039?line=5'>6</a>\u001b[0m test_scale_df\u001b[39m.\u001b[39mcolumns \u001b[39m=\u001b[39m test_df\u001b[39m.\u001b[39mcolumns\n",
      "File \u001b[0;32m~/Desktop/ml-projects/heart-disease-project/env/lib/python3.9/site-packages/sklearn/base.py:852\u001b[0m, in \u001b[0;36mTransformerMixin.fit_transform\u001b[0;34m(self, X, y, **fit_params)\u001b[0m\n\u001b[1;32m    848\u001b[0m \u001b[39m# non-optimized default implementation; override when a better\u001b[39;00m\n\u001b[1;32m    849\u001b[0m \u001b[39m# method is possible for a given clustering algorithm\u001b[39;00m\n\u001b[1;32m    850\u001b[0m \u001b[39mif\u001b[39;00m y \u001b[39mis\u001b[39;00m \u001b[39mNone\u001b[39;00m:\n\u001b[1;32m    851\u001b[0m     \u001b[39m# fit method of arity 1 (unsupervised transformation)\u001b[39;00m\n\u001b[0;32m--> 852\u001b[0m     \u001b[39mreturn\u001b[39;00m \u001b[39mself\u001b[39;49m\u001b[39m.\u001b[39;49mfit(X, \u001b[39m*\u001b[39;49m\u001b[39m*\u001b[39;49mfit_params)\u001b[39m.\u001b[39mtransform(X)\n\u001b[1;32m    853\u001b[0m \u001b[39melse\u001b[39;00m:\n\u001b[1;32m    854\u001b[0m     \u001b[39m# fit method of arity 2 (supervised transformation)\u001b[39;00m\n\u001b[1;32m    855\u001b[0m     \u001b[39mreturn\u001b[39;00m \u001b[39mself\u001b[39m\u001b[39m.\u001b[39mfit(X, y, \u001b[39m*\u001b[39m\u001b[39m*\u001b[39mfit_params)\u001b[39m.\u001b[39mtransform(X)\n",
      "File \u001b[0;32m~/Desktop/ml-projects/heart-disease-project/env/lib/python3.9/site-packages/sklearn/preprocessing/_data.py:806\u001b[0m, in \u001b[0;36mStandardScaler.fit\u001b[0;34m(self, X, y, sample_weight)\u001b[0m\n\u001b[1;32m    804\u001b[0m \u001b[39m# Reset internal state before fitting\u001b[39;00m\n\u001b[1;32m    805\u001b[0m \u001b[39mself\u001b[39m\u001b[39m.\u001b[39m_reset()\n\u001b[0;32m--> 806\u001b[0m \u001b[39mreturn\u001b[39;00m \u001b[39mself\u001b[39;49m\u001b[39m.\u001b[39;49mpartial_fit(X, y, sample_weight)\n",
      "File \u001b[0;32m~/Desktop/ml-projects/heart-disease-project/env/lib/python3.9/site-packages/sklearn/preprocessing/_data.py:841\u001b[0m, in \u001b[0;36mStandardScaler.partial_fit\u001b[0;34m(self, X, y, sample_weight)\u001b[0m\n\u001b[1;32m    809\u001b[0m \u001b[39m\"\"\"Online computation of mean and std on X for later scaling.\u001b[39;00m\n\u001b[1;32m    810\u001b[0m \n\u001b[1;32m    811\u001b[0m \u001b[39mAll of X is processed as a single batch. This is intended for cases\u001b[39;00m\n\u001b[0;32m   (...)\u001b[0m\n\u001b[1;32m    838\u001b[0m \u001b[39m    Fitted scaler.\u001b[39;00m\n\u001b[1;32m    839\u001b[0m \u001b[39m\"\"\"\u001b[39;00m\n\u001b[1;32m    840\u001b[0m first_call \u001b[39m=\u001b[39m \u001b[39mnot\u001b[39;00m \u001b[39mhasattr\u001b[39m(\u001b[39mself\u001b[39m, \u001b[39m\"\u001b[39m\u001b[39mn_samples_seen_\u001b[39m\u001b[39m\"\u001b[39m)\n\u001b[0;32m--> 841\u001b[0m X \u001b[39m=\u001b[39m \u001b[39mself\u001b[39;49m\u001b[39m.\u001b[39;49m_validate_data(\n\u001b[1;32m    842\u001b[0m     X,\n\u001b[1;32m    843\u001b[0m     accept_sparse\u001b[39m=\u001b[39;49m(\u001b[39m\"\u001b[39;49m\u001b[39mcsr\u001b[39;49m\u001b[39m\"\u001b[39;49m, \u001b[39m\"\u001b[39;49m\u001b[39mcsc\u001b[39;49m\u001b[39m\"\u001b[39;49m),\n\u001b[1;32m    844\u001b[0m     estimator\u001b[39m=\u001b[39;49m\u001b[39mself\u001b[39;49m,\n\u001b[1;32m    845\u001b[0m     dtype\u001b[39m=\u001b[39;49mFLOAT_DTYPES,\n\u001b[1;32m    846\u001b[0m     force_all_finite\u001b[39m=\u001b[39;49m\u001b[39m\"\u001b[39;49m\u001b[39mallow-nan\u001b[39;49m\u001b[39m\"\u001b[39;49m,\n\u001b[1;32m    847\u001b[0m     reset\u001b[39m=\u001b[39;49mfirst_call,\n\u001b[1;32m    848\u001b[0m )\n\u001b[1;32m    849\u001b[0m n_features \u001b[39m=\u001b[39m X\u001b[39m.\u001b[39mshape[\u001b[39m1\u001b[39m]\n\u001b[1;32m    851\u001b[0m \u001b[39mif\u001b[39;00m sample_weight \u001b[39mis\u001b[39;00m \u001b[39mnot\u001b[39;00m \u001b[39mNone\u001b[39;00m:\n",
      "File \u001b[0;32m~/Desktop/ml-projects/heart-disease-project/env/lib/python3.9/site-packages/sklearn/base.py:566\u001b[0m, in \u001b[0;36mBaseEstimator._validate_data\u001b[0;34m(self, X, y, reset, validate_separately, **check_params)\u001b[0m\n\u001b[1;32m    564\u001b[0m     \u001b[39mraise\u001b[39;00m \u001b[39mValueError\u001b[39;00m(\u001b[39m\"\u001b[39m\u001b[39mValidation should be done on X, y or both.\u001b[39m\u001b[39m\"\u001b[39m)\n\u001b[1;32m    565\u001b[0m \u001b[39melif\u001b[39;00m \u001b[39mnot\u001b[39;00m no_val_X \u001b[39mand\u001b[39;00m no_val_y:\n\u001b[0;32m--> 566\u001b[0m     X \u001b[39m=\u001b[39m check_array(X, \u001b[39m*\u001b[39;49m\u001b[39m*\u001b[39;49mcheck_params)\n\u001b[1;32m    567\u001b[0m     out \u001b[39m=\u001b[39m X\n\u001b[1;32m    568\u001b[0m \u001b[39melif\u001b[39;00m no_val_X \u001b[39mand\u001b[39;00m \u001b[39mnot\u001b[39;00m no_val_y:\n",
      "File \u001b[0;32m~/Desktop/ml-projects/heart-disease-project/env/lib/python3.9/site-packages/sklearn/utils/validation.py:746\u001b[0m, in \u001b[0;36mcheck_array\u001b[0;34m(array, accept_sparse, accept_large_sparse, dtype, order, copy, force_all_finite, ensure_2d, allow_nd, ensure_min_samples, ensure_min_features, estimator)\u001b[0m\n\u001b[1;32m    744\u001b[0m         array \u001b[39m=\u001b[39m array\u001b[39m.\u001b[39mastype(dtype, casting\u001b[39m=\u001b[39m\u001b[39m\"\u001b[39m\u001b[39munsafe\u001b[39m\u001b[39m\"\u001b[39m, copy\u001b[39m=\u001b[39m\u001b[39mFalse\u001b[39;00m)\n\u001b[1;32m    745\u001b[0m     \u001b[39melse\u001b[39;00m:\n\u001b[0;32m--> 746\u001b[0m         array \u001b[39m=\u001b[39m np\u001b[39m.\u001b[39;49masarray(array, order\u001b[39m=\u001b[39;49morder, dtype\u001b[39m=\u001b[39;49mdtype)\n\u001b[1;32m    747\u001b[0m \u001b[39mexcept\u001b[39;00m ComplexWarning \u001b[39mas\u001b[39;00m complex_warning:\n\u001b[1;32m    748\u001b[0m     \u001b[39mraise\u001b[39;00m \u001b[39mValueError\u001b[39;00m(\n\u001b[1;32m    749\u001b[0m         \u001b[39m\"\u001b[39m\u001b[39mComplex data not supported\u001b[39m\u001b[39m\\n\u001b[39;00m\u001b[39m{}\u001b[39;00m\u001b[39m\\n\u001b[39;00m\u001b[39m\"\u001b[39m\u001b[39m.\u001b[39mformat(array)\n\u001b[1;32m    750\u001b[0m     ) \u001b[39mfrom\u001b[39;00m \u001b[39mcomplex_warning\u001b[39;00m\n",
      "File \u001b[0;32m~/Desktop/ml-projects/heart-disease-project/env/lib/python3.9/site-packages/pandas/core/generic.py:2064\u001b[0m, in \u001b[0;36mNDFrame.__array__\u001b[0;34m(self, dtype)\u001b[0m\n\u001b[1;32m   2063\u001b[0m \u001b[39mdef\u001b[39;00m \u001b[39m__array__\u001b[39m(\u001b[39mself\u001b[39m, dtype: npt\u001b[39m.\u001b[39mDTypeLike \u001b[39m|\u001b[39m \u001b[39mNone\u001b[39;00m \u001b[39m=\u001b[39m \u001b[39mNone\u001b[39;00m) \u001b[39m-\u001b[39m\u001b[39m>\u001b[39m np\u001b[39m.\u001b[39mndarray:\n\u001b[0;32m-> 2064\u001b[0m     \u001b[39mreturn\u001b[39;00m np\u001b[39m.\u001b[39;49masarray(\u001b[39mself\u001b[39;49m\u001b[39m.\u001b[39;49m_values, dtype\u001b[39m=\u001b[39;49mdtype)\n",
      "\u001b[0;31mValueError\u001b[0m: could not convert string to float: 'male'"
     ]
    }
   ],
   "source": [
    "std_scaler = StandardScaler()\n",
    "\n",
    "ss_test_df = test_df.copy()\n",
    "test_scale_arr = std_scaler.fit_transform(ss_test_df)\n",
    "ss_test_df = pd.DataFrame(test_scale_arr)\n",
    "ss_test_df.columns = test_df.columns\n",
    "ss_test_df.head()\n"
   ]
  },
  {
   "cell_type": "code",
   "execution_count": null,
   "metadata": {},
   "outputs": [],
   "source": [
    "test_preds = ss_gs_model.predict(ss_test_df)"
   ]
  },
  {
   "cell_type": "code",
   "execution_count": null,
   "metadata": {},
   "outputs": [],
   "source": [
    "kaggle_data = pd.DataFrame()\n",
    "kaggle_data[\"PassengerId\"] = test_PassengerIDs\n",
    "kaggle_data[\"Survived\"] = test_preds.astype(int)"
   ]
  },
  {
   "cell_type": "code",
   "execution_count": null,
   "metadata": {},
   "outputs": [],
   "source": [
    "best_score = 0.8547486033519553"
   ]
  },
  {
   "cell_type": "code",
   "execution_count": null,
   "metadata": {},
   "outputs": [],
   "source": [
    "best_score_percent = round(best_score, 3)*100\n",
    "kaggle_data.to_csv(\"../result-csv/KNNv2-\"+str(best_score_percent)+\"p_accuracy.csv\", index=False)"
   ]
  }
 ],
 "metadata": {
  "kernelspec": {
   "display_name": "Python 3.9.12",
   "language": "python",
   "name": "python3"
  },
  "language_info": {
   "codemirror_mode": {
    "name": "ipython",
    "version": 3
   },
   "file_extension": ".py",
   "mimetype": "text/x-python",
   "name": "python",
   "nbconvert_exporter": "python",
   "pygments_lexer": "ipython3",
   "version": "3.9.12"
  },
  "orig_nbformat": 4,
  "vscode": {
   "interpreter": {
    "hash": "82356630ee31c322de3c8105d4886e8cf5c8f59226fa62936576a27ede4a0c8e"
   }
  }
 },
 "nbformat": 4,
 "nbformat_minor": 2
}
