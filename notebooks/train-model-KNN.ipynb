{
 "cells": [
  {
   "cell_type": "markdown",
   "metadata": {},
   "source": [
    "# Model Options\n",
    "\n",
    "- Objective:   Your score is the percentage of passengers you correctly predict, aka accuracy\n",
    "- Problem type: binary classification\n",
    "- Following https://scikit-learn.org/stable/tutorial/machine_learning_map/index.html \n",
    "    - \\> 50 samples \n",
    "    - predicting a category\n",
    "    - labeled data \n",
    "    - <100K samples\n",
    "    --> Linear SVC \n",
    "    - Linear SVC didn't work too hot. \n",
    "    \n",
    "    \n",
    "Next one is KNN"
   ]
  },
  {
   "cell_type": "code",
   "execution_count": 1,
   "metadata": {},
   "outputs": [],
   "source": [
    "# Import the basics \n",
    "\n",
    "import pandas as pd\n",
    "import numpy as np\n",
    "import sklearn\n",
    "import os\n",
    "import sys\n",
    "sys.path.insert(0, os.path.abspath('../modules'))\n",
    "import preprocess as pp\n",
    "import plots"
   ]
  },
  {
   "cell_type": "code",
   "execution_count": 2,
   "metadata": {},
   "outputs": [
    {
     "name": "stdout",
     "output_type": "stream",
     "text": [
      "PassengerId, not in col list\n",
      "Survived, not in col list\n",
      "Pclass, not in col list\n",
      "Name, not in col list\n",
      "converting Sex to category type\n",
      "Age, not in col list\n",
      "SibSp, not in col list\n",
      "Parch, not in col list\n",
      "converting Ticket to category type\n",
      "Fare, not in col list\n",
      "Cabin, not in col list\n",
      "converting Embarked to category type\n",
      "converting Deck to category type\n",
      "Deck_is_missing, not in col list\n",
      "Age_is_missing, not in col list\n",
      "Fare_is_missing, not in col list\n"
     ]
    }
   ],
   "source": [
    "# Read & clean up data\n",
    "\n",
    "df_raw = pd.read_csv(\"../data/train.csv\")\n",
    "df = pp.aggregated_preprocess1(df_raw)\n",
    "\n",
    "from sklearn.model_selection import train_test_split, GridSearchCV\n",
    "from sklearn.metrics import confusion_matrix, classification_report\n",
    "\n",
    "np.random.seed(35)\n",
    "\n",
    "x = df.drop(\"Survived\", axis=1)\n",
    "y = df.Survived\n",
    "\n",
    "x_train, x_test, y_train, y_test = train_test_split(x, y, test_size=.2)"
   ]
  },
  {
   "cell_type": "code",
   "execution_count": 3,
   "metadata": {},
   "outputs": [
    {
     "data": {
      "text/html": [
       "<div>\n",
       "<style scoped>\n",
       "    .dataframe tbody tr th:only-of-type {\n",
       "        vertical-align: middle;\n",
       "    }\n",
       "\n",
       "    .dataframe tbody tr th {\n",
       "        vertical-align: top;\n",
       "    }\n",
       "\n",
       "    .dataframe thead th {\n",
       "        text-align: right;\n",
       "    }\n",
       "</style>\n",
       "<table border=\"1\" class=\"dataframe\">\n",
       "  <thead>\n",
       "    <tr style=\"text-align: right;\">\n",
       "      <th></th>\n",
       "      <th>Survived</th>\n",
       "      <th>Pclass</th>\n",
       "      <th>Sex</th>\n",
       "      <th>Age</th>\n",
       "      <th>SibSp</th>\n",
       "      <th>Parch</th>\n",
       "      <th>Ticket</th>\n",
       "      <th>Fare</th>\n",
       "      <th>Embarked</th>\n",
       "      <th>Deck</th>\n",
       "      <th>Deck_is_missing</th>\n",
       "      <th>Age_is_missing</th>\n",
       "      <th>Fare_is_missing</th>\n",
       "    </tr>\n",
       "  </thead>\n",
       "  <tbody>\n",
       "    <tr>\n",
       "      <th>0</th>\n",
       "      <td>0</td>\n",
       "      <td>3</td>\n",
       "      <td>2</td>\n",
       "      <td>22.0</td>\n",
       "      <td>1</td>\n",
       "      <td>0</td>\n",
       "      <td>524</td>\n",
       "      <td>7.2500</td>\n",
       "      <td>3</td>\n",
       "      <td>17</td>\n",
       "      <td>1</td>\n",
       "      <td>0</td>\n",
       "      <td>0</td>\n",
       "    </tr>\n",
       "    <tr>\n",
       "      <th>1</th>\n",
       "      <td>1</td>\n",
       "      <td>1</td>\n",
       "      <td>1</td>\n",
       "      <td>38.0</td>\n",
       "      <td>1</td>\n",
       "      <td>0</td>\n",
       "      <td>597</td>\n",
       "      <td>71.2833</td>\n",
       "      <td>1</td>\n",
       "      <td>6</td>\n",
       "      <td>0</td>\n",
       "      <td>0</td>\n",
       "      <td>0</td>\n",
       "    </tr>\n",
       "    <tr>\n",
       "      <th>2</th>\n",
       "      <td>1</td>\n",
       "      <td>3</td>\n",
       "      <td>1</td>\n",
       "      <td>26.0</td>\n",
       "      <td>0</td>\n",
       "      <td>0</td>\n",
       "      <td>670</td>\n",
       "      <td>7.9250</td>\n",
       "      <td>3</td>\n",
       "      <td>17</td>\n",
       "      <td>1</td>\n",
       "      <td>0</td>\n",
       "      <td>0</td>\n",
       "    </tr>\n",
       "    <tr>\n",
       "      <th>3</th>\n",
       "      <td>1</td>\n",
       "      <td>1</td>\n",
       "      <td>1</td>\n",
       "      <td>35.0</td>\n",
       "      <td>1</td>\n",
       "      <td>0</td>\n",
       "      <td>50</td>\n",
       "      <td>53.1000</td>\n",
       "      <td>3</td>\n",
       "      <td>6</td>\n",
       "      <td>0</td>\n",
       "      <td>0</td>\n",
       "      <td>0</td>\n",
       "    </tr>\n",
       "    <tr>\n",
       "      <th>4</th>\n",
       "      <td>0</td>\n",
       "      <td>3</td>\n",
       "      <td>2</td>\n",
       "      <td>35.0</td>\n",
       "      <td>0</td>\n",
       "      <td>0</td>\n",
       "      <td>473</td>\n",
       "      <td>8.0500</td>\n",
       "      <td>3</td>\n",
       "      <td>17</td>\n",
       "      <td>1</td>\n",
       "      <td>0</td>\n",
       "      <td>0</td>\n",
       "    </tr>\n",
       "  </tbody>\n",
       "</table>\n",
       "</div>"
      ],
      "text/plain": [
       "   Survived  Pclass  Sex   Age  SibSp  Parch  Ticket     Fare  Embarked  Deck  \\\n",
       "0         0       3    2  22.0      1      0     524   7.2500         3    17   \n",
       "1         1       1    1  38.0      1      0     597  71.2833         1     6   \n",
       "2         1       3    1  26.0      0      0     670   7.9250         3    17   \n",
       "3         1       1    1  35.0      1      0      50  53.1000         3     6   \n",
       "4         0       3    2  35.0      0      0     473   8.0500         3    17   \n",
       "\n",
       "   Deck_is_missing  Age_is_missing  Fare_is_missing  \n",
       "0                1               0                0  \n",
       "1                0               0                0  \n",
       "2                1               0                0  \n",
       "3                0               0                0  \n",
       "4                1               0                0  "
      ]
     },
     "execution_count": 3,
     "metadata": {},
     "output_type": "execute_result"
    }
   ],
   "source": [
    "df.head()"
   ]
  },
  {
   "cell_type": "code",
   "execution_count": 4,
   "metadata": {},
   "outputs": [
    {
     "name": "stdout",
     "output_type": "stream",
     "text": [
      "<class 'pandas.core.frame.DataFrame'>\n",
      "RangeIndex: 891 entries, 0 to 890\n",
      "Data columns (total 13 columns):\n",
      " #   Column           Non-Null Count  Dtype  \n",
      "---  ------           --------------  -----  \n",
      " 0   Survived         891 non-null    int64  \n",
      " 1   Pclass           891 non-null    int64  \n",
      " 2   Sex              891 non-null    int8   \n",
      " 3   Age              891 non-null    float64\n",
      " 4   SibSp            891 non-null    int64  \n",
      " 5   Parch            891 non-null    int64  \n",
      " 6   Ticket           891 non-null    int16  \n",
      " 7   Fare             891 non-null    float64\n",
      " 8   Embarked         891 non-null    int8   \n",
      " 9   Deck             891 non-null    int8   \n",
      " 10  Deck_is_missing  891 non-null    int64  \n",
      " 11  Age_is_missing   891 non-null    int64  \n",
      " 12  Fare_is_missing  891 non-null    int64  \n",
      "dtypes: float64(2), int16(1), int64(7), int8(3)\n",
      "memory usage: 67.1 KB\n"
     ]
    }
   ],
   "source": [
    "df.info()"
   ]
  },
  {
   "cell_type": "code",
   "execution_count": 5,
   "metadata": {},
   "outputs": [
    {
     "data": {
      "text/plain": [
       "Survived           0\n",
       "Pclass             0\n",
       "Sex                0\n",
       "Age                0\n",
       "SibSp              0\n",
       "Parch              0\n",
       "Ticket             0\n",
       "Fare               0\n",
       "Embarked           0\n",
       "Deck               0\n",
       "Deck_is_missing    0\n",
       "Age_is_missing     0\n",
       "Fare_is_missing    0\n",
       "dtype: int64"
      ]
     },
     "execution_count": 5,
     "metadata": {},
     "output_type": "execute_result"
    }
   ],
   "source": [
    "df.isna().sum()"
   ]
  },
  {
   "cell_type": "code",
   "execution_count": 6,
   "metadata": {},
   "outputs": [
    {
     "data": {
      "text/html": [
       "<div>\n",
       "<style scoped>\n",
       "    .dataframe tbody tr th:only-of-type {\n",
       "        vertical-align: middle;\n",
       "    }\n",
       "\n",
       "    .dataframe tbody tr th {\n",
       "        vertical-align: top;\n",
       "    }\n",
       "\n",
       "    .dataframe thead th {\n",
       "        text-align: right;\n",
       "    }\n",
       "</style>\n",
       "<table border=\"1\" class=\"dataframe\">\n",
       "  <thead>\n",
       "    <tr style=\"text-align: right;\">\n",
       "      <th></th>\n",
       "      <th>Survived</th>\n",
       "      <th>Pclass</th>\n",
       "      <th>Sex</th>\n",
       "      <th>Age</th>\n",
       "      <th>SibSp</th>\n",
       "      <th>Parch</th>\n",
       "      <th>Ticket</th>\n",
       "      <th>Fare</th>\n",
       "      <th>Embarked</th>\n",
       "      <th>Deck</th>\n",
       "      <th>Deck_is_missing</th>\n",
       "      <th>Age_is_missing</th>\n",
       "      <th>Fare_is_missing</th>\n",
       "    </tr>\n",
       "  </thead>\n",
       "  <tbody>\n",
       "  </tbody>\n",
       "</table>\n",
       "</div>"
      ],
      "text/plain": [
       "Empty DataFrame\n",
       "Columns: [Survived, Pclass, Sex, Age, SibSp, Parch, Ticket, Fare, Embarked, Deck, Deck_is_missing, Age_is_missing, Fare_is_missing]\n",
       "Index: []"
      ]
     },
     "execution_count": 6,
     "metadata": {},
     "output_type": "execute_result"
    }
   ],
   "source": [
    "df.loc[(df.Age == -1)]"
   ]
  },
  {
   "cell_type": "markdown",
   "metadata": {},
   "source": [
    "# Model Tuning \n",
    "\n",
    "Based on the documentation, https://scikit-learn.org/stable/modules/neighbors.html :\n",
    "- KNN can be supervised or unsupervised. I believe since we have the target var, we'll want the supervised classification.\n",
    "- KDTree or BallTree are options for finding neighbors\n",
    "    - KD Tree is more efficient than brute force distance calculation, but can suffer with a lot of dimensions\n",
    "    - Ball Tree - \"partitions data into nesting hyperspheres\"!!\n",
    "    - both have a leaf size parameter: controls the number of samples at which a query switches to brute-force\n",
    "- there's a k-neighbors option and a radius option: \n",
    "    - pick k closest points vs. pick all points within a radius\n",
    "    - if \"data is not uniformly sampled, radius-based neighbors classification... can be a better choice\", but is not ideal for high-dimensional parameter spaces\n",
    "- The basic nearest neighbors classification uses uniform weights: that is, the value assigned to a query point is computed from a simple majority vote of the nearest neighbors. Under some circumstances, it is better to weight the neighbors such that nearer neighbors contribute more to the fit. This can be accomplished through the weights keyword. The default value, weights = 'uniform', assigns uniform weights to each neighbor. weights = 'distance' assigns weights proportional to the inverse of the distance from the query point. Alternatively, a user-defined function of the distance can be supplied to compute the weights.\n"
   ]
  },
  {
   "cell_type": "code",
   "execution_count": 7,
   "metadata": {},
   "outputs": [
    {
     "data": {
      "text/plain": [
       "GridSearchCV(cv=5, estimator=KNeighborsClassifier(),\n",
       "             param_grid={'leaf_size': array([ 2,  4,  6,  8, 10, 12]),\n",
       "                         'metric': ['minkowski', 'chebyshev', 'correlation',\n",
       "                                    'dice'],\n",
       "                         'n_neighbors': array([ 6,  8, 10, 12, 14, 16, 18, 20]),\n",
       "                         'p': [1, 2], 'weights': ['uniform', 'distance']})"
      ]
     },
     "execution_count": 7,
     "metadata": {},
     "output_type": "execute_result"
    }
   ],
   "source": [
    "from sklearn.neighbors import KNeighborsClassifier, KNeighborsTransformer\n",
    "\n",
    "grid= {\"n_neighbors\": np.arange(6, 22, 2), \n",
    "        \"leaf_size\": np.arange(2, 14, 2),\n",
    "        \"weights\": [\"uniform\", \"distance\"], \n",
    "        'p': [1,2],\n",
    "        'metric': ['minkowski', 'chebyshev', 'correlation', 'dice']}\n",
    "\n",
    "gs_model = GridSearchCV(KNeighborsClassifier(), \n",
    "                        param_grid=grid,\n",
    "                        cv= 5)\n",
    "\n",
    "gs_model.fit(x_train, y_train)"
   ]
  },
  {
   "cell_type": "code",
   "execution_count": 8,
   "metadata": {},
   "outputs": [
    {
     "data": {
      "text/plain": [
       "{'leaf_size': 2,\n",
       " 'metric': 'minkowski',\n",
       " 'n_neighbors': 12,\n",
       " 'p': 1,\n",
       " 'weights': 'distance'}"
      ]
     },
     "execution_count": 8,
     "metadata": {},
     "output_type": "execute_result"
    }
   ],
   "source": [
    "gs_model.best_params_"
   ]
  },
  {
   "cell_type": "code",
   "execution_count": 9,
   "metadata": {},
   "outputs": [
    {
     "data": {
      "text/plain": [
       "(0.7261302078203486, 0.6927374301675978)"
      ]
     },
     "execution_count": 9,
     "metadata": {},
     "output_type": "execute_result"
    }
   ],
   "source": [
    "best_score = gs_model.score(x_test, y_test)\n",
    "best_model = gs_model\n",
    "\n",
    "gs_model.best_score_, best_score"
   ]
  },
  {
   "cell_type": "markdown",
   "metadata": {},
   "source": [
    "This seems to be recommending more neighbors, but I don't see an improvement in accuracy with more neighbors. Let's try a few more numbers..."
   ]
  },
  {
   "cell_type": "code",
   "execution_count": 10,
   "metadata": {},
   "outputs": [
    {
     "data": {
      "text/plain": [
       "GridSearchCV(cv=5, estimator=KNeighborsClassifier(),\n",
       "             param_grid={'leaf_size': [2, 5, 10],\n",
       "                         'metric': ['minkowski', 'chebyshev', 'correlation',\n",
       "                                    'dice'],\n",
       "                         'n_neighbors': array([10, 15, 20, 25, 30, 35, 40, 45, 50, 55]),\n",
       "                         'p': [1, 2], 'weights': ['uniform', 'distance']})"
      ]
     },
     "execution_count": 10,
     "metadata": {},
     "output_type": "execute_result"
    }
   ],
   "source": [
    "grid2 = {\"n_neighbors\": np.arange(10, 60, 5), \n",
    "        \"leaf_size\": [2,5,10],\n",
    "        \"weights\": [\"uniform\", \"distance\"], \n",
    "        'p': [1,2],\n",
    "        'metric': ['minkowski', 'chebyshev', 'correlation', 'dice']}\n",
    "\n",
    "gs_model2 = GridSearchCV(KNeighborsClassifier(), \n",
    "                        param_grid=grid2,\n",
    "                        cv= 5)\n",
    "\n",
    "gs_model2.fit(x_train, y_train)"
   ]
  },
  {
   "cell_type": "code",
   "execution_count": 11,
   "metadata": {},
   "outputs": [
    {
     "data": {
      "text/plain": [
       "{'leaf_size': 2,\n",
       " 'metric': 'minkowski',\n",
       " 'n_neighbors': 30,\n",
       " 'p': 1,\n",
       " 'weights': 'distance'}"
      ]
     },
     "execution_count": 11,
     "metadata": {},
     "output_type": "execute_result"
    }
   ],
   "source": [
    "gs_model2.best_params_"
   ]
  },
  {
   "cell_type": "code",
   "execution_count": 12,
   "metadata": {},
   "outputs": [
    {
     "data": {
      "text/plain": [
       "(0.7247316064217473, 0.664804469273743, 0.6927374301675978)"
      ]
     },
     "execution_count": 12,
     "metadata": {},
     "output_type": "execute_result"
    }
   ],
   "source": [
    "gs_model2_score = gs_model2.score(x_test, y_test)\n",
    "gs_model2.best_score_, gs_model2_score\n",
    "\n",
    "if gs_model2_score > best_score:\n",
    "    best_score = gs_model2_score\n",
    "    best_model = gs_model2\n",
    "\n",
    "\n",
    "gs_model2.best_score_, gs_model2_score, best_score"
   ]
  },
  {
   "cell_type": "markdown",
   "metadata": {},
   "source": [
    "interesting. gs_model2 fits training data better, but unseen data worse. "
   ]
  },
  {
   "cell_type": "code",
   "execution_count": 13,
   "metadata": {},
   "outputs": [
    {
     "name": "stdout",
     "output_type": "stream",
     "text": [
      "              precision    recall  f1-score   support\n",
      "\n",
      "           0       0.69      0.88      0.77       106\n",
      "           1       0.70      0.42      0.53        73\n",
      "\n",
      "    accuracy                           0.69       179\n",
      "   macro avg       0.70      0.65      0.65       179\n",
      "weighted avg       0.70      0.69      0.67       179\n",
      "\n"
     ]
    }
   ],
   "source": [
    "y_preds = gs_model.predict(x_test)\n",
    "print(classification_report(y_test, y_preds))"
   ]
  },
  {
   "cell_type": "code",
   "execution_count": 14,
   "metadata": {},
   "outputs": [
    {
     "name": "stdout",
     "output_type": "stream",
     "text": [
      "              precision    recall  f1-score   support\n",
      "\n",
      "           0       0.67      0.87      0.75       106\n",
      "           1       0.66      0.37      0.47        73\n",
      "\n",
      "    accuracy                           0.66       179\n",
      "   macro avg       0.66      0.62      0.61       179\n",
      "weighted avg       0.66      0.66      0.64       179\n",
      "\n"
     ]
    }
   ],
   "source": [
    "y_preds = gs_model2.predict(x_test)\n",
    "print(classification_report(y_test, y_preds))"
   ]
  },
  {
   "cell_type": "markdown",
   "metadata": {},
   "source": [
    "### Best model with unscaled features: gs_model2 \n",
    " `'leaf_size': 2,\n",
    " 'metric': 'minkowski',\n",
    " 'n_neighbors': 12,\n",
    " 'p': 1,\n",
    " 'weights': 'distance'`"
   ]
  },
  {
   "cell_type": "code",
   "execution_count": 15,
   "metadata": {},
   "outputs": [
    {
     "data": {
      "text/html": [
       "<div>\n",
       "<style scoped>\n",
       "    .dataframe tbody tr th:only-of-type {\n",
       "        vertical-align: middle;\n",
       "    }\n",
       "\n",
       "    .dataframe tbody tr th {\n",
       "        vertical-align: top;\n",
       "    }\n",
       "\n",
       "    .dataframe thead th {\n",
       "        text-align: right;\n",
       "    }\n",
       "</style>\n",
       "<table border=\"1\" class=\"dataframe\">\n",
       "  <thead>\n",
       "    <tr style=\"text-align: right;\">\n",
       "      <th></th>\n",
       "      <th>min</th>\n",
       "      <th>max</th>\n",
       "    </tr>\n",
       "  </thead>\n",
       "  <tbody>\n",
       "    <tr>\n",
       "      <th>Survived</th>\n",
       "      <td>0.0000</td>\n",
       "      <td>1.0000</td>\n",
       "    </tr>\n",
       "    <tr>\n",
       "      <th>Pclass</th>\n",
       "      <td>1.0000</td>\n",
       "      <td>3.0000</td>\n",
       "    </tr>\n",
       "    <tr>\n",
       "      <th>Sex</th>\n",
       "      <td>1.0000</td>\n",
       "      <td>2.0000</td>\n",
       "    </tr>\n",
       "    <tr>\n",
       "      <th>Age</th>\n",
       "      <td>0.4200</td>\n",
       "      <td>80.0000</td>\n",
       "    </tr>\n",
       "    <tr>\n",
       "      <th>SibSp</th>\n",
       "      <td>0.0000</td>\n",
       "      <td>8.0000</td>\n",
       "    </tr>\n",
       "    <tr>\n",
       "      <th>Parch</th>\n",
       "      <td>0.0000</td>\n",
       "      <td>6.0000</td>\n",
       "    </tr>\n",
       "    <tr>\n",
       "      <th>Ticket</th>\n",
       "      <td>1.0000</td>\n",
       "      <td>681.0000</td>\n",
       "    </tr>\n",
       "    <tr>\n",
       "      <th>Fare</th>\n",
       "      <td>4.0125</td>\n",
       "      <td>512.3292</td>\n",
       "    </tr>\n",
       "    <tr>\n",
       "      <th>Embarked</th>\n",
       "      <td>0.0000</td>\n",
       "      <td>3.0000</td>\n",
       "    </tr>\n",
       "    <tr>\n",
       "      <th>Deck</th>\n",
       "      <td>1.0000</td>\n",
       "      <td>17.0000</td>\n",
       "    </tr>\n",
       "    <tr>\n",
       "      <th>Deck_is_missing</th>\n",
       "      <td>0.0000</td>\n",
       "      <td>1.0000</td>\n",
       "    </tr>\n",
       "    <tr>\n",
       "      <th>Age_is_missing</th>\n",
       "      <td>0.0000</td>\n",
       "      <td>1.0000</td>\n",
       "    </tr>\n",
       "    <tr>\n",
       "      <th>Fare_is_missing</th>\n",
       "      <td>0.0000</td>\n",
       "      <td>0.0000</td>\n",
       "    </tr>\n",
       "  </tbody>\n",
       "</table>\n",
       "</div>"
      ],
      "text/plain": [
       "                    min       max\n",
       "Survived         0.0000    1.0000\n",
       "Pclass           1.0000    3.0000\n",
       "Sex              1.0000    2.0000\n",
       "Age              0.4200   80.0000\n",
       "SibSp            0.0000    8.0000\n",
       "Parch            0.0000    6.0000\n",
       "Ticket           1.0000  681.0000\n",
       "Fare             4.0125  512.3292\n",
       "Embarked         0.0000    3.0000\n",
       "Deck             1.0000   17.0000\n",
       "Deck_is_missing  0.0000    1.0000\n",
       "Age_is_missing   0.0000    1.0000\n",
       "Fare_is_missing  0.0000    0.0000"
      ]
     },
     "execution_count": 15,
     "metadata": {},
     "output_type": "execute_result"
    }
   ],
   "source": [
    "data_desc = df.describe().T\n",
    "data_spread = data_desc[[\"min\", \"max\"]]\n",
    "data_spread"
   ]
  },
  {
   "cell_type": "code",
   "execution_count": 16,
   "metadata": {},
   "outputs": [
    {
     "data": {
      "text/html": [
       "<div>\n",
       "<style scoped>\n",
       "    .dataframe tbody tr th:only-of-type {\n",
       "        vertical-align: middle;\n",
       "    }\n",
       "\n",
       "    .dataframe tbody tr th {\n",
       "        vertical-align: top;\n",
       "    }\n",
       "\n",
       "    .dataframe thead th {\n",
       "        text-align: right;\n",
       "    }\n",
       "</style>\n",
       "<table border=\"1\" class=\"dataframe\">\n",
       "  <thead>\n",
       "    <tr style=\"text-align: right;\">\n",
       "      <th></th>\n",
       "      <th>Survived</th>\n",
       "      <th>Pclass</th>\n",
       "      <th>Sex</th>\n",
       "      <th>Age</th>\n",
       "      <th>SibSp</th>\n",
       "      <th>Parch</th>\n",
       "      <th>Ticket</th>\n",
       "      <th>Fare</th>\n",
       "      <th>Embarked</th>\n",
       "      <th>Deck</th>\n",
       "      <th>Deck_is_missing</th>\n",
       "      <th>Age_is_missing</th>\n",
       "      <th>Fare_is_missing</th>\n",
       "    </tr>\n",
       "  </thead>\n",
       "  <tbody>\n",
       "    <tr>\n",
       "      <th>0</th>\n",
       "      <td>0.0</td>\n",
       "      <td>1.0</td>\n",
       "      <td>1.0</td>\n",
       "      <td>0.271174</td>\n",
       "      <td>0.125</td>\n",
       "      <td>0.0</td>\n",
       "      <td>0.769118</td>\n",
       "      <td>0.006369</td>\n",
       "      <td>1.000000</td>\n",
       "      <td>1.0000</td>\n",
       "      <td>1.0</td>\n",
       "      <td>0.0</td>\n",
       "      <td>0.0</td>\n",
       "    </tr>\n",
       "    <tr>\n",
       "      <th>1</th>\n",
       "      <td>1.0</td>\n",
       "      <td>0.0</td>\n",
       "      <td>0.0</td>\n",
       "      <td>0.472229</td>\n",
       "      <td>0.125</td>\n",
       "      <td>0.0</td>\n",
       "      <td>0.876471</td>\n",
       "      <td>0.132340</td>\n",
       "      <td>0.333333</td>\n",
       "      <td>0.3125</td>\n",
       "      <td>0.0</td>\n",
       "      <td>0.0</td>\n",
       "      <td>0.0</td>\n",
       "    </tr>\n",
       "    <tr>\n",
       "      <th>2</th>\n",
       "      <td>1.0</td>\n",
       "      <td>1.0</td>\n",
       "      <td>0.0</td>\n",
       "      <td>0.321438</td>\n",
       "      <td>0.000</td>\n",
       "      <td>0.0</td>\n",
       "      <td>0.983824</td>\n",
       "      <td>0.007697</td>\n",
       "      <td>1.000000</td>\n",
       "      <td>1.0000</td>\n",
       "      <td>1.0</td>\n",
       "      <td>0.0</td>\n",
       "      <td>0.0</td>\n",
       "    </tr>\n",
       "    <tr>\n",
       "      <th>3</th>\n",
       "      <td>1.0</td>\n",
       "      <td>0.0</td>\n",
       "      <td>0.0</td>\n",
       "      <td>0.434531</td>\n",
       "      <td>0.125</td>\n",
       "      <td>0.0</td>\n",
       "      <td>0.072059</td>\n",
       "      <td>0.096569</td>\n",
       "      <td>1.000000</td>\n",
       "      <td>0.3125</td>\n",
       "      <td>0.0</td>\n",
       "      <td>0.0</td>\n",
       "      <td>0.0</td>\n",
       "    </tr>\n",
       "    <tr>\n",
       "      <th>4</th>\n",
       "      <td>0.0</td>\n",
       "      <td>1.0</td>\n",
       "      <td>1.0</td>\n",
       "      <td>0.434531</td>\n",
       "      <td>0.000</td>\n",
       "      <td>0.0</td>\n",
       "      <td>0.694118</td>\n",
       "      <td>0.007943</td>\n",
       "      <td>1.000000</td>\n",
       "      <td>1.0000</td>\n",
       "      <td>1.0</td>\n",
       "      <td>0.0</td>\n",
       "      <td>0.0</td>\n",
       "    </tr>\n",
       "  </tbody>\n",
       "</table>\n",
       "</div>"
      ],
      "text/plain": [
       "   Survived  Pclass  Sex       Age  SibSp  Parch    Ticket      Fare  \\\n",
       "0       0.0     1.0  1.0  0.271174  0.125    0.0  0.769118  0.006369   \n",
       "1       1.0     0.0  0.0  0.472229  0.125    0.0  0.876471  0.132340   \n",
       "2       1.0     1.0  0.0  0.321438  0.000    0.0  0.983824  0.007697   \n",
       "3       1.0     0.0  0.0  0.434531  0.125    0.0  0.072059  0.096569   \n",
       "4       0.0     1.0  1.0  0.434531  0.000    0.0  0.694118  0.007943   \n",
       "\n",
       "   Embarked    Deck  Deck_is_missing  Age_is_missing  Fare_is_missing  \n",
       "0  1.000000  1.0000              1.0             0.0              0.0  \n",
       "1  0.333333  0.3125              0.0             0.0              0.0  \n",
       "2  1.000000  1.0000              1.0             0.0              0.0  \n",
       "3  1.000000  0.3125              0.0             0.0              0.0  \n",
       "4  1.000000  1.0000              1.0             0.0              0.0  "
      ]
     },
     "execution_count": 16,
     "metadata": {},
     "output_type": "execute_result"
    }
   ],
   "source": [
    "# Scale it!!\n",
    "from sklearn.preprocessing import MinMaxScaler\n",
    "scaler = MinMaxScaler()\n",
    "\n",
    "scale_df = df.copy()\n",
    "scale_arr = scaler.fit_transform(scale_df)\n",
    "scale_df = pd.DataFrame(scale_arr)\n",
    "scale_df.columns = df.columns\n",
    "scale_df.head()\n"
   ]
  },
  {
   "cell_type": "code",
   "execution_count": 17,
   "metadata": {},
   "outputs": [
    {
     "data": {
      "text/html": [
       "<div>\n",
       "<style scoped>\n",
       "    .dataframe tbody tr th:only-of-type {\n",
       "        vertical-align: middle;\n",
       "    }\n",
       "\n",
       "    .dataframe tbody tr th {\n",
       "        vertical-align: top;\n",
       "    }\n",
       "\n",
       "    .dataframe thead th {\n",
       "        text-align: right;\n",
       "    }\n",
       "</style>\n",
       "<table border=\"1\" class=\"dataframe\">\n",
       "  <thead>\n",
       "    <tr style=\"text-align: right;\">\n",
       "      <th></th>\n",
       "      <th>min</th>\n",
       "      <th>max</th>\n",
       "    </tr>\n",
       "  </thead>\n",
       "  <tbody>\n",
       "    <tr>\n",
       "      <th>Survived</th>\n",
       "      <td>0.0</td>\n",
       "      <td>1.0</td>\n",
       "    </tr>\n",
       "    <tr>\n",
       "      <th>Pclass</th>\n",
       "      <td>0.0</td>\n",
       "      <td>1.0</td>\n",
       "    </tr>\n",
       "    <tr>\n",
       "      <th>Sex</th>\n",
       "      <td>0.0</td>\n",
       "      <td>1.0</td>\n",
       "    </tr>\n",
       "    <tr>\n",
       "      <th>Age</th>\n",
       "      <td>0.0</td>\n",
       "      <td>1.0</td>\n",
       "    </tr>\n",
       "    <tr>\n",
       "      <th>SibSp</th>\n",
       "      <td>0.0</td>\n",
       "      <td>1.0</td>\n",
       "    </tr>\n",
       "    <tr>\n",
       "      <th>Parch</th>\n",
       "      <td>0.0</td>\n",
       "      <td>1.0</td>\n",
       "    </tr>\n",
       "    <tr>\n",
       "      <th>Ticket</th>\n",
       "      <td>0.0</td>\n",
       "      <td>1.0</td>\n",
       "    </tr>\n",
       "    <tr>\n",
       "      <th>Fare</th>\n",
       "      <td>0.0</td>\n",
       "      <td>1.0</td>\n",
       "    </tr>\n",
       "    <tr>\n",
       "      <th>Embarked</th>\n",
       "      <td>0.0</td>\n",
       "      <td>1.0</td>\n",
       "    </tr>\n",
       "    <tr>\n",
       "      <th>Deck</th>\n",
       "      <td>0.0</td>\n",
       "      <td>1.0</td>\n",
       "    </tr>\n",
       "    <tr>\n",
       "      <th>Deck_is_missing</th>\n",
       "      <td>0.0</td>\n",
       "      <td>1.0</td>\n",
       "    </tr>\n",
       "    <tr>\n",
       "      <th>Age_is_missing</th>\n",
       "      <td>0.0</td>\n",
       "      <td>1.0</td>\n",
       "    </tr>\n",
       "    <tr>\n",
       "      <th>Fare_is_missing</th>\n",
       "      <td>0.0</td>\n",
       "      <td>0.0</td>\n",
       "    </tr>\n",
       "  </tbody>\n",
       "</table>\n",
       "</div>"
      ],
      "text/plain": [
       "                 min  max\n",
       "Survived         0.0  1.0\n",
       "Pclass           0.0  1.0\n",
       "Sex              0.0  1.0\n",
       "Age              0.0  1.0\n",
       "SibSp            0.0  1.0\n",
       "Parch            0.0  1.0\n",
       "Ticket           0.0  1.0\n",
       "Fare             0.0  1.0\n",
       "Embarked         0.0  1.0\n",
       "Deck             0.0  1.0\n",
       "Deck_is_missing  0.0  1.0\n",
       "Age_is_missing   0.0  1.0\n",
       "Fare_is_missing  0.0  0.0"
      ]
     },
     "execution_count": 17,
     "metadata": {},
     "output_type": "execute_result"
    }
   ],
   "source": [
    "desc = scale_df.describe().T\n",
    "spread = desc[[\"min\", \"max\"]]\n",
    "spread"
   ]
  },
  {
   "cell_type": "code",
   "execution_count": 18,
   "metadata": {},
   "outputs": [
    {
     "data": {
      "text/plain": [
       "GridSearchCV(cv=5, estimator=KNeighborsClassifier(),\n",
       "             param_grid={'leaf_size': array([ 2,  4,  6,  8, 10, 12]),\n",
       "                         'metric': ['minkowski', 'chebyshev', 'correlation',\n",
       "                                    'dice'],\n",
       "                         'n_neighbors': array([ 6,  8, 10, 12, 14, 16, 18, 20]),\n",
       "                         'p': [1, 2], 'weights': ['uniform', 'distance']})"
      ]
     },
     "execution_count": 18,
     "metadata": {},
     "output_type": "execute_result"
    }
   ],
   "source": [
    "scale_df_x = scale_df.drop(\"Survived\", axis=1)\n",
    "scale_df_y = scale_df.Survived\n",
    "\n",
    "scaled_x_train, scaled_x_test, scaled_y_train, scaled_y_test = train_test_split(scale_df_x, scale_df_y, test_size=.2 )\n",
    "\n",
    "grid3= {\"n_neighbors\": np.arange(2, 40, 5), \n",
    "        \"leaf_size\": np.arange(2, 14, 2),\n",
    "        \"weights\": [\"uniform\", \"distance\"], \n",
    "        'p': [1,2],\n",
    "        'metric': ['minkowski', 'chebyshev', 'correlation', 'dice']}\n",
    "\n",
    "gs_model3 = GridSearchCV(KNeighborsClassifier(), \n",
    "                        param_grid=grid,\n",
    "                        cv= 5)\n",
    "\n",
    "gs_model3.fit(scaled_x_train, scaled_y_train)"
   ]
  },
  {
   "cell_type": "code",
   "execution_count": 19,
   "metadata": {},
   "outputs": [
    {
     "data": {
      "text/plain": [
       "{'leaf_size': 2,\n",
       " 'metric': 'minkowski',\n",
       " 'n_neighbors': 20,\n",
       " 'p': 1,\n",
       " 'weights': 'uniform'}"
      ]
     },
     "execution_count": 19,
     "metadata": {},
     "output_type": "execute_result"
    }
   ],
   "source": [
    "gs_model3.best_params_"
   ]
  },
  {
   "cell_type": "code",
   "execution_count": 20,
   "metadata": {},
   "outputs": [
    {
     "data": {
      "text/plain": [
       "(0.8103910174332709, 0.8156424581005587, 0.8156424581005587)"
      ]
     },
     "execution_count": 20,
     "metadata": {},
     "output_type": "execute_result"
    }
   ],
   "source": [
    "gs_model3_score = gs_model3.score(scaled_x_test, scaled_y_test)\n",
    "\n",
    "if gs_model3_score > best_score:\n",
    "    best_score = gs_model3_score\n",
    "    best_model = gs_model3\n",
    "\n",
    "\n",
    "gs_model3.best_score_, gs_model3_score, best_score"
   ]
  },
  {
   "cell_type": "code",
   "execution_count": 21,
   "metadata": {},
   "outputs": [
    {
     "name": "stdout",
     "output_type": "stream",
     "text": [
      "              precision    recall  f1-score   support\n",
      "\n",
      "         0.0       0.79      0.95      0.86       110\n",
      "         1.0       0.89      0.59      0.71        69\n",
      "\n",
      "    accuracy                           0.82       179\n",
      "   macro avg       0.84      0.77      0.79       179\n",
      "weighted avg       0.83      0.82      0.81       179\n",
      "\n"
     ]
    }
   ],
   "source": [
    "scaled_y_preds = gs_model3.predict(scaled_x_test)\n",
    "print(classification_report(scaled_y_test, scaled_y_preds))"
   ]
  },
  {
   "cell_type": "code",
   "execution_count": 22,
   "metadata": {},
   "outputs": [
    {
     "data": {
      "image/png": "[encoded data removed]",
      "text/plain": [
       "<Figure size 144x144 with 1 Axes>"
      ]
     },
     "metadata": {
      "needs_background": "light"
     },
     "output_type": "display_data"
    }
   ],
   "source": [
    "plots.draw_confusion_matrix(scaled_y_test, scaled_y_preds) "
   ]
  },
  {
   "cell_type": "code",
   "execution_count": 23,
   "metadata": {},
   "outputs": [
    {
     "data": {
      "text/plain": [
       "({'leaf_size': 2,\n",
       "  'metric': 'minkowski',\n",
       "  'n_neighbors': 20,\n",
       "  'p': 1,\n",
       "  'weights': 'uniform'},\n",
       " 0.8156424581005587)"
      ]
     },
     "execution_count": 23,
     "metadata": {},
     "output_type": "execute_result"
    }
   ],
   "source": [
    "best_model.best_params_, best_score"
   ]
  },
  {
   "cell_type": "markdown",
   "metadata": {},
   "source": [
    "### Best model overall: gs_model3, trained on scaled features\n",
    " `'leaf_size': 4,\n",
    "  'metric': 'minkowski',\n",
    "  'n_neighbors': 18,\n",
    "  'p': 1,\n",
    "  'weights': 'distance'`"
   ]
  },
  {
   "cell_type": "markdown",
   "metadata": {},
   "source": [
    "Let's run this on the real data and convert to Kaggle format"
   ]
  },
  {
   "cell_type": "code",
   "execution_count": 24,
   "metadata": {},
   "outputs": [
    {
     "name": "stdout",
     "output_type": "stream",
     "text": [
      "PassengerId, not in col list\n",
      "Pclass, not in col list\n",
      "Name, not in col list\n",
      "converting Sex to category type\n",
      "Age, not in col list\n",
      "SibSp, not in col list\n",
      "Parch, not in col list\n",
      "converting Ticket to category type\n",
      "Fare, not in col list\n",
      "Cabin, not in col list\n",
      "converting Embarked to category type\n",
      "converting Deck to category type\n",
      "Deck_is_missing, not in col list\n",
      "Age_is_missing, not in col list\n",
      "Fare_is_missing, not in col list\n"
     ]
    }
   ],
   "source": [
    "raw_test_df = pd.read_csv(\"../data/test.csv\")\n",
    "test_PassengerIDs = raw_test_df.PassengerId\n",
    "test_df = pp.aggregated_preprocess1(raw_test_df)"
   ]
  },
  {
   "cell_type": "code",
   "execution_count": 25,
   "metadata": {},
   "outputs": [
    {
     "data": {
      "text/html": [
       "<div>\n",
       "<style scoped>\n",
       "    .dataframe tbody tr th:only-of-type {\n",
       "        vertical-align: middle;\n",
       "    }\n",
       "\n",
       "    .dataframe tbody tr th {\n",
       "        vertical-align: top;\n",
       "    }\n",
       "\n",
       "    .dataframe thead th {\n",
       "        text-align: right;\n",
       "    }\n",
       "</style>\n",
       "<table border=\"1\" class=\"dataframe\">\n",
       "  <thead>\n",
       "    <tr style=\"text-align: right;\">\n",
       "      <th></th>\n",
       "      <th>Pclass</th>\n",
       "      <th>Sex</th>\n",
       "      <th>Age</th>\n",
       "      <th>SibSp</th>\n",
       "      <th>Parch</th>\n",
       "      <th>Ticket</th>\n",
       "      <th>Fare</th>\n",
       "      <th>Embarked</th>\n",
       "      <th>Deck</th>\n",
       "      <th>Deck_is_missing</th>\n",
       "      <th>Age_is_missing</th>\n",
       "      <th>Fare_is_missing</th>\n",
       "    </tr>\n",
       "  </thead>\n",
       "  <tbody>\n",
       "    <tr>\n",
       "      <th>0</th>\n",
       "      <td>1.0</td>\n",
       "      <td>1.0</td>\n",
       "      <td>0.452723</td>\n",
       "      <td>0.000</td>\n",
       "      <td>0.000000</td>\n",
       "      <td>0.419890</td>\n",
       "      <td>0.009149</td>\n",
       "      <td>0.5</td>\n",
       "      <td>1.0</td>\n",
       "      <td>1.0</td>\n",
       "      <td>0.0</td>\n",
       "      <td>0.0</td>\n",
       "    </tr>\n",
       "    <tr>\n",
       "      <th>1</th>\n",
       "      <td>1.0</td>\n",
       "      <td>0.0</td>\n",
       "      <td>0.617566</td>\n",
       "      <td>0.125</td>\n",
       "      <td>0.000000</td>\n",
       "      <td>0.610497</td>\n",
       "      <td>0.007521</td>\n",
       "      <td>1.0</td>\n",
       "      <td>1.0</td>\n",
       "      <td>1.0</td>\n",
       "      <td>0.0</td>\n",
       "      <td>0.0</td>\n",
       "    </tr>\n",
       "    <tr>\n",
       "      <th>2</th>\n",
       "      <td>0.5</td>\n",
       "      <td>1.0</td>\n",
       "      <td>0.815377</td>\n",
       "      <td>0.000</td>\n",
       "      <td>0.000000</td>\n",
       "      <td>0.201657</td>\n",
       "      <td>0.012799</td>\n",
       "      <td>0.5</td>\n",
       "      <td>1.0</td>\n",
       "      <td>1.0</td>\n",
       "      <td>0.0</td>\n",
       "      <td>0.0</td>\n",
       "    </tr>\n",
       "    <tr>\n",
       "      <th>3</th>\n",
       "      <td>1.0</td>\n",
       "      <td>1.0</td>\n",
       "      <td>0.353818</td>\n",
       "      <td>0.000</td>\n",
       "      <td>0.000000</td>\n",
       "      <td>0.406077</td>\n",
       "      <td>0.010786</td>\n",
       "      <td>1.0</td>\n",
       "      <td>1.0</td>\n",
       "      <td>1.0</td>\n",
       "      <td>0.0</td>\n",
       "      <td>0.0</td>\n",
       "    </tr>\n",
       "    <tr>\n",
       "      <th>4</th>\n",
       "      <td>1.0</td>\n",
       "      <td>0.0</td>\n",
       "      <td>0.287881</td>\n",
       "      <td>0.125</td>\n",
       "      <td>0.111111</td>\n",
       "      <td>0.381215</td>\n",
       "      <td>0.017905</td>\n",
       "      <td>1.0</td>\n",
       "      <td>1.0</td>\n",
       "      <td>1.0</td>\n",
       "      <td>0.0</td>\n",
       "      <td>0.0</td>\n",
       "    </tr>\n",
       "  </tbody>\n",
       "</table>\n",
       "</div>"
      ],
      "text/plain": [
       "   Pclass  Sex       Age  SibSp     Parch    Ticket      Fare  Embarked  Deck  \\\n",
       "0     1.0  1.0  0.452723  0.000  0.000000  0.419890  0.009149       0.5   1.0   \n",
       "1     1.0  0.0  0.617566  0.125  0.000000  0.610497  0.007521       1.0   1.0   \n",
       "2     0.5  1.0  0.815377  0.000  0.000000  0.201657  0.012799       0.5   1.0   \n",
       "3     1.0  1.0  0.353818  0.000  0.000000  0.406077  0.010786       1.0   1.0   \n",
       "4     1.0  0.0  0.287881  0.125  0.111111  0.381215  0.017905       1.0   1.0   \n",
       "\n",
       "   Deck_is_missing  Age_is_missing  Fare_is_missing  \n",
       "0              1.0             0.0              0.0  \n",
       "1              1.0             0.0              0.0  \n",
       "2              1.0             0.0              0.0  \n",
       "3              1.0             0.0              0.0  \n",
       "4              1.0             0.0              0.0  "
      ]
     },
     "execution_count": 25,
     "metadata": {},
     "output_type": "execute_result"
    }
   ],
   "source": [
    "# Scale it!!\n",
    "from sklearn.preprocessing import MinMaxScaler\n",
    "scaler = MinMaxScaler()\n",
    "\n",
    "test_scale_df = test_df.copy()\n",
    "test_scale_arr = scaler.fit_transform(test_scale_df)\n",
    "test_scale_df = pd.DataFrame(test_scale_arr)\n",
    "test_scale_df.columns = test_df.columns\n",
    "test_scale_df.head()"
   ]
  },
  {
   "cell_type": "code",
   "execution_count": 26,
   "metadata": {},
   "outputs": [
    {
     "data": {
      "text/html": [
       "<div>\n",
       "<style scoped>\n",
       "    .dataframe tbody tr th:only-of-type {\n",
       "        vertical-align: middle;\n",
       "    }\n",
       "\n",
       "    .dataframe tbody tr th {\n",
       "        vertical-align: top;\n",
       "    }\n",
       "\n",
       "    .dataframe thead th {\n",
       "        text-align: right;\n",
       "    }\n",
       "</style>\n",
       "<table border=\"1\" class=\"dataframe\">\n",
       "  <thead>\n",
       "    <tr style=\"text-align: right;\">\n",
       "      <th></th>\n",
       "      <th>min</th>\n",
       "      <th>max</th>\n",
       "    </tr>\n",
       "  </thead>\n",
       "  <tbody>\n",
       "    <tr>\n",
       "      <th>Pclass</th>\n",
       "      <td>0.0</td>\n",
       "      <td>1.0</td>\n",
       "    </tr>\n",
       "    <tr>\n",
       "      <th>Sex</th>\n",
       "      <td>0.0</td>\n",
       "      <td>1.0</td>\n",
       "    </tr>\n",
       "    <tr>\n",
       "      <th>Age</th>\n",
       "      <td>0.0</td>\n",
       "      <td>1.0</td>\n",
       "    </tr>\n",
       "    <tr>\n",
       "      <th>SibSp</th>\n",
       "      <td>0.0</td>\n",
       "      <td>1.0</td>\n",
       "    </tr>\n",
       "    <tr>\n",
       "      <th>Parch</th>\n",
       "      <td>0.0</td>\n",
       "      <td>1.0</td>\n",
       "    </tr>\n",
       "    <tr>\n",
       "      <th>Ticket</th>\n",
       "      <td>0.0</td>\n",
       "      <td>1.0</td>\n",
       "    </tr>\n",
       "    <tr>\n",
       "      <th>Fare</th>\n",
       "      <td>0.0</td>\n",
       "      <td>1.0</td>\n",
       "    </tr>\n",
       "    <tr>\n",
       "      <th>Embarked</th>\n",
       "      <td>0.0</td>\n",
       "      <td>1.0</td>\n",
       "    </tr>\n",
       "    <tr>\n",
       "      <th>Deck</th>\n",
       "      <td>0.0</td>\n",
       "      <td>1.0</td>\n",
       "    </tr>\n",
       "    <tr>\n",
       "      <th>Deck_is_missing</th>\n",
       "      <td>0.0</td>\n",
       "      <td>1.0</td>\n",
       "    </tr>\n",
       "    <tr>\n",
       "      <th>Age_is_missing</th>\n",
       "      <td>0.0</td>\n",
       "      <td>1.0</td>\n",
       "    </tr>\n",
       "    <tr>\n",
       "      <th>Fare_is_missing</th>\n",
       "      <td>0.0</td>\n",
       "      <td>1.0</td>\n",
       "    </tr>\n",
       "  </tbody>\n",
       "</table>\n",
       "</div>"
      ],
      "text/plain": [
       "                 min  max\n",
       "Pclass           0.0  1.0\n",
       "Sex              0.0  1.0\n",
       "Age              0.0  1.0\n",
       "SibSp            0.0  1.0\n",
       "Parch            0.0  1.0\n",
       "Ticket           0.0  1.0\n",
       "Fare             0.0  1.0\n",
       "Embarked         0.0  1.0\n",
       "Deck             0.0  1.0\n",
       "Deck_is_missing  0.0  1.0\n",
       "Age_is_missing   0.0  1.0\n",
       "Fare_is_missing  0.0  1.0"
      ]
     },
     "execution_count": 26,
     "metadata": {},
     "output_type": "execute_result"
    }
   ],
   "source": [
    "desc = test_scale_df.describe().T\n",
    "spread = desc[[\"min\", \"max\"]]\n",
    "spread"
   ]
  },
  {
   "cell_type": "code",
   "execution_count": 27,
   "metadata": {},
   "outputs": [],
   "source": [
    "\n",
    "test_preds = gs_model3.predict(test_scale_df)"
   ]
  },
  {
   "cell_type": "code",
   "execution_count": 34,
   "metadata": {},
   "outputs": [],
   "source": [
    "kaggle_data = pd.DataFrame()\n",
    "kaggle_data[\"PassengerId\"] = test_PassengerIDs\n",
    "kaggle_data[\"Survived\"] = test_preds.astype(int)"
   ]
  },
  {
   "cell_type": "code",
   "execution_count": 36,
   "metadata": {},
   "outputs": [],
   "source": [
    "best_score_percent = round(best_score, 3)*100\n",
    "kaggle_data.to_csv(\"../result-csv/KNN-\"+str(best_score_percent)+\"p_accuracy.csv\", index=False)"
   ]
  },
  {
   "cell_type": "code",
   "execution_count": 37,
   "metadata": {},
   "outputs": [
    {
     "data": {
      "text/plain": [
       "418"
      ]
     },
     "execution_count": 37,
     "metadata": {},
     "output_type": "execute_result"
    }
   ],
   "source": [
    "len(kaggle_data)"
   ]
  }
 ],
 "metadata": {
  "kernelspec": {
   "display_name": "Python 3.9.12",
   "language": "python",
   "name": "python3"
  },
  "language_info": {
   "codemirror_mode": {
    "name": "ipython",
    "version": 3
   },
   "file_extension": ".py",
   "mimetype": "text/x-python",
   "name": "python",
   "nbconvert_exporter": "python",
   "pygments_lexer": "ipython3",
   "version": "3.9.12"
  },
  "orig_nbformat": 4,
  "vscode": {
   "interpreter": {
    "hash": "82356630ee31c322de3c8105d4886e8cf5c8f59226fa62936576a27ede4a0c8e"
   }
  }
 },
 "nbformat": 4,
 "nbformat_minor": 2
}
